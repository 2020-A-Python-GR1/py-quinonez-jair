{
 "cells": [
  {
   "cell_type": "code",
   "execution_count": 8,
   "metadata": {},
   "outputs": [
    {
     "name": "stdout",
     "output_type": "stream",
     "text": [
      "Buenos dias. \n",
      "<class 'str'>\n"
     ]
    }
   ],
   "source": [
    "try: \n",
    "    path = \"./frases.txt\"\n",
    "    archivo_abierto = open(path)#w =write a =appen\n",
    "    lineas_uno = archivo_abierto.readline()\n",
    "    print(lineas_uno)\n",
    "    print(type(lineas_uno))\n",
    "    archivo_abierto.close()\n",
    "except Exception as Error:\n",
    "    printn(\"Error leyendo archivo\")\n"
   ]
  },
  {
   "cell_type": "code",
   "execution_count": 12,
   "metadata": {},
   "outputs": [
    {
     "name": "stdout",
     "output_type": "stream",
     "text": [
      "Buenos dias. \n",
      "<class 'str'>\n"
     ]
    }
   ],
   "source": [
    "try: \n",
    "    path = \"./frases.txt\"\n",
    "    archivo_abierto = open(path, 'a')#w =write a =appen\n",
    "    #lineas_uno = archivo_abierto.readline()\n",
    "    archivo_abierto.write(\"Buenass Noches\")\n",
    "    print(lineas_uno)\n",
    "    print(type(lineas_uno))\n",
    "    archivo_abierto.close()\n",
    "except Exception as Error:\n",
    "    printn(\"Error leyendo archivo\")\n"
   ]
  },
  {
   "cell_type": "code",
   "execution_count": null,
   "metadata": {},
   "outputs": [],
   "source": []
  },
  {
   "cell_type": "code",
   "execution_count": null,
   "metadata": {},
   "outputs": [],
   "source": []
  }
 ],
 "metadata": {
  "kernelspec": {
   "display_name": "Python 3",
   "language": "python",
   "name": "python3"
  },
  "language_info": {
   "codemirror_mode": {
    "name": "ipython",
    "version": 3
   },
   "file_extension": ".py",
   "mimetype": "text/x-python",
   "name": "python",
   "nbconvert_exporter": "python",
   "pygments_lexer": "ipython3",
   "version": "3.7.6"
  }
 },
 "nbformat": 4,
 "nbformat_minor": 4
}
