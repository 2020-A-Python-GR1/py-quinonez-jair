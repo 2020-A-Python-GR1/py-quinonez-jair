{
 "cells": [
  {
   "cell_type": "code",
   "execution_count": 2,
   "metadata": {},
   "outputs": [
    {
     "name": "stdout",
     "output_type": "stream",
     "text": [
      "Hola mundo\n"
     ]
    }
   ],
   "source": [
    "print(\"Hola mundo\")"
   ]
  },
  {
   "cell_type": "code",
   "execution_count": null,
   "metadata": {},
   "outputs": [],
   "source": []
  },
  {
   "cell_type": "markdown",
   "metadata": {},
   "source": [
    "   "
   ]
  },
  {
   "cell_type": "code",
   "execution_count": 1,
   "metadata": {},
   "outputs": [
    {
     "name": "stdout",
     "output_type": "stream",
     "text": [
      "Hola Mundo\n"
     ]
    }
   ],
   "source": []
  },
  {
   "cell_type": "code",
   "execution_count": 5,
   "metadata": {},
   "outputs": [
    {
     "name": "stdout",
     "output_type": "stream",
     "text": [
      "<class 'int'>\n",
      "<class 'float'>\n",
      "<class 'str'>\n",
      "<class 'str'>\n",
      "<class 'str'>\n",
      "<class 'bool'>\n",
      "<class 'bool'>\n",
      "<class 'NoneType'>\n",
      "4\n",
      "Jair\n"
     ]
    }
   ],
   "source": [
    "#Python!\n",
    "#No tipado\n",
    "#Variables primitivas\n",
    "entero = 4 \n",
    "decimales = 1.1\n",
    "nombre = \"Jair\"\n",
    "segundo_nombre = \"Andres\" #segundoNombre x -> MAL\n",
    "apellido = \"Quiñonez\"\n",
    "casado = False \n",
    "profesor = True\n",
    "hijos = None\n",
    "print(type(entero))\n",
    "print(type(decimales))\n",
    "print(type(nombre))\n",
    "print(type(segundo_nombre))\n",
    "print(type(apellido))\n",
    "print(type(casado))\n",
    "print(type(profesor))\n",
    "print(type(hijos))\n",
    "#NAN not a number \n",
    "print(entero)\n",
    "entero = decimales\n",
    "entero = hijos\n",
    "entero = casado\n",
    "entero = nombre\n",
    "print(entero)\n"
   ]
  },
  {
   "cell_type": "code",
   "execution_count": 3,
   "metadata": {},
   "outputs": [
    {
     "ename": "NameError",
     "evalue": "name 'entero' is not defined",
     "output_type": "error",
     "traceback": [
      "\u001b[1;31m---------------------------------------------------------------------------\u001b[0m",
      "\u001b[1;31mNameError\u001b[0m                                 Traceback (most recent call last)",
      "\u001b[1;32m<ipython-input-3-60c19c8e6c4d>\u001b[0m in \u001b[0;36m<module>\u001b[1;34m\u001b[0m\n\u001b[0;32m      2\u001b[0m \u001b[0mJair\u001b[0m \u001b[0mAndres\u001b[0m \u001b[0mquieñonez\u001b[0m \u001b[0mTenorio\u001b[0m\u001b[1;33m,\u001b[0m\u001b[1;33m\u001b[0m\u001b[1;33m\u001b[0m\u001b[0m\n\u001b[0;32m      3\u001b[0m nombres completos para testear\"\"\"\n\u001b[1;32m----> 4\u001b[1;33m \u001b[0mprint\u001b[0m\u001b[1;33m(\u001b[0m\u001b[0mentero\u001b[0m\u001b[1;33m)\u001b[0m\u001b[1;33m\u001b[0m\u001b[1;33m\u001b[0m\u001b[0m\n\u001b[0m",
      "\u001b[1;31mNameError\u001b[0m: name 'entero' is not defined"
     ]
    }
   ],
   "source": [
    "cadena_de_texto = \"\"\"\n",
    "Jair Andres quieñonez Tenorio, \n",
    "nombres completos para testear\"\"\"\n",
    "print(entero)"
   ]
  },
  {
   "cell_type": "code",
   "execution_count": 11,
   "metadata": {},
   "outputs": [
    {
     "name": "stdout",
     "output_type": "stream",
     "text": [
      "Truty\n",
      "Falsy\n"
     ]
    }
   ],
   "source": [
    "#condiciones \n",
    "#Truty and Falsy\n",
    "tuplas = (1,2,3) #arreglos que no se pueden modificar\n",
    "lista = [4,5,6] #arreglos modificables \n",
    "diccionario = {\n",
    "    \"nombre\":\"Jair\",\n",
    "    \"apellido\":\"Quiñonez\"\n",
    "}\n",
    "if('Jair'):\n",
    "    #.....\n",
    "    #::::::\n",
    "    print('Truty')\n",
    "else:\n",
    "    #::::::\n",
    "    #..........\n",
    "    print('Falsy')\n",
    "if(''):\n",
    "    print('Truty')\n",
    "else:\n",
    "    print('Falsy')"
   ]
  },
  {
   "cell_type": "code",
   "execution_count": null,
   "metadata": {},
   "outputs": [],
   "source": []
  }
 ],
 "metadata": {
  "kernelspec": {
   "display_name": "Python 3",
   "language": "python",
   "name": "python3"
  },
  "language_info": {
   "codemirror_mode": {
    "name": "ipython",
    "version": 3
   },
   "file_extension": ".py",
   "mimetype": "text/x-python",
   "name": "python",
   "nbconvert_exporter": "python",
   "pygments_lexer": "ipython3",
   "version": "3.7.6"
  }
 },
 "nbformat": 4,
 "nbformat_minor": 4
}
