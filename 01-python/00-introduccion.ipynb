{
 "cells": [
  {
   "cell_type": "code",
   "execution_count": 2,
   "metadata": {},
   "outputs": [
    {
     "name": "stdout",
     "output_type": "stream",
     "text": [
      "Hola mundo\n"
     ]
    }
   ],
   "source": [
    "print(\"Hola mundo\")"
   ]
  },
  {
   "cell_type": "code",
   "execution_count": null,
   "metadata": {},
   "outputs": [],
   "source": []
  },
  {
   "cell_type": "markdown",
   "metadata": {},
   "source": [
    "   "
   ]
  },
  {
   "cell_type": "code",
   "execution_count": 1,
   "metadata": {},
   "outputs": [
    {
     "name": "stdout",
     "output_type": "stream",
     "text": [
      "Hola Mundo\n"
     ]
    }
   ],
   "source": []
  },
  {
   "cell_type": "code",
   "execution_count": 16,
   "metadata": {},
   "outputs": [
    {
     "name": "stdout",
     "output_type": "stream",
     "text": [
      "<class 'int'>\n",
      "<class 'float'>\n",
      "<class 'str'>\n",
      "<class 'str'>\n",
      "<class 'str'>\n",
      "<class 'bool'>\n",
      "<class 'bool'>\n",
      "<class 'NoneType'>\n",
      "4\n",
      "Jair\n"
     ]
    }
   ],
   "source": [
    "#Python!\n",
    "#No tipado\n",
    "#Variables primitivas\n",
    "entero = 4 \n",
    "decimales = 1.1\n",
    "nombre = \"Jair\"\n",
    "segundo_nombre = \"Andres\" #segundoNombre x -> MAL\n",
    "apellido = \"Quiñonez\"\n",
    "casado = False \n",
    "profesor = True\n",
    "hijos = None\n",
    "print(type(entero))\n",
    "print(type(decimales))\n",
    "print(type(nombre))\n",
    "print(type(segundo_nombre))\n",
    "print(type(apellido))\n",
    "print(type(casado))\n",
    "print(type(profesor))\n",
    "print(type(hijos))\n",
    "#NAN not a number \n",
    "print(entero)\n",
    "entero = decimales\n",
    "entero = hijos\n",
    "entero = casado\n",
    "entero = nombre\n",
    "print(entero)\n"
   ]
  },
  {
   "cell_type": "code",
   "execution_count": 3,
   "metadata": {},
   "outputs": [
    {
     "ename": "NameError",
     "evalue": "name 'entero' is not defined",
     "output_type": "error",
     "traceback": [
      "\u001b[1;31m---------------------------------------------------------------------------\u001b[0m",
      "\u001b[1;31mNameError\u001b[0m                                 Traceback (most recent call last)",
      "\u001b[1;32m<ipython-input-3-60c19c8e6c4d>\u001b[0m in \u001b[0;36m<module>\u001b[1;34m\u001b[0m\n\u001b[0;32m      2\u001b[0m \u001b[0mJair\u001b[0m \u001b[0mAndres\u001b[0m \u001b[0mquieñonez\u001b[0m \u001b[0mTenorio\u001b[0m\u001b[1;33m,\u001b[0m\u001b[1;33m\u001b[0m\u001b[1;33m\u001b[0m\u001b[0m\n\u001b[0;32m      3\u001b[0m nombres completos para testear\"\"\"\n\u001b[1;32m----> 4\u001b[1;33m \u001b[0mprint\u001b[0m\u001b[1;33m(\u001b[0m\u001b[0mentero\u001b[0m\u001b[1;33m)\u001b[0m\u001b[1;33m\u001b[0m\u001b[1;33m\u001b[0m\u001b[0m\n\u001b[0m",
      "\u001b[1;31mNameError\u001b[0m: name 'entero' is not defined"
     ]
    }
   ],
   "source": [
    "cadena_de_texto = \"\"\"\n",
    "Jair Andres quieñonez Tenorio, \n",
    "nombres completos para testear\"\"\"\n",
    "print(entero)"
   ]
  },
  {
   "cell_type": "code",
   "execution_count": 17,
   "metadata": {},
   "outputs": [
    {
     "name": "stdout",
     "output_type": "stream",
     "text": [
      "Truty\n",
      "Falsy\n",
      "Falsy\n",
      "Truty\n",
      "Falsy\n",
      "Truty\n",
      "Truty\n",
      "Falsy\n",
      "Truty\n",
      "Falsy\n",
      "Truty\n",
      "Falsy\n",
      "Truty\n"
     ]
    }
   ],
   "source": [
    "#condiciones \n",
    "#comillas simples y dobles son iguales. Strings \n",
    "#Truty and Falsy\n",
    "tuplas = (1,2,3) #arreglos que no se pueden modificar\n",
    "lista = [4,5,6] #arreglos modificables \n",
    "diccionario = {\n",
    "    \"nombre\":\"Jair\",\n",
    "    \n",
    "}\n",
    "if('Jair'):\n",
    "    #.....\n",
    "    #::::::\n",
    "    print('Truty')\n",
    "else:\n",
    "    #::::::\n",
    "    #..........\n",
    "    print('Falsy')\n",
    "if(''):#falsi\n",
    "    print('Truty')\n",
    "else:\n",
    "    print('Falsy')\n",
    "\n",
    "variable = None \n",
    "if(variable):\n",
    "    print('Truty')\n",
    "else:\n",
    "    print('Falsy')\n",
    "if(1):\n",
    "    print('Truty')\n",
    "else:\n",
    "    print('Falsy')\n",
    "if(0):\n",
    "    print('Truty')\n",
    "else:\n",
    "    print('Falsy')\n",
    "if(-1):\n",
    "    print('Truty')\n",
    "else:\n",
    "    print('Falsy')\n",
    "if(1.2):\n",
    "    print('Truty')\n",
    "else:\n",
    "    print('Falsy')\n",
    "##################Tuplas, arreglos y diccionarios \n",
    "\n",
    "if(()):#falsy\n",
    "    print('Truty')\n",
    "else:\n",
    "    print('Falsy')\n",
    "if((1,2,3)):#truty\n",
    "    print('Truty')\n",
    "else:\n",
    "    print('Falsy')\n",
    "if([]): #falsy\n",
    "    print('Truty')\n",
    "else:\n",
    "    print('Falsy')\n",
    "if([4,5,6]): #truty\n",
    "    print('Truty')\n",
    "else:\n",
    "    print('Falsy')\n",
    "if({}):#falsy\n",
    "    print('Truty')\n",
    "else:\n",
    "    print('Falsy')\n",
    "if({nombre: \"Jair\"}):#Truty\n",
    "    print('Truty')\n",
    "else:\n",
    "    print('Falsy')"
   ]
  },
  {
   "cell_type": "code",
   "execution_count": 34,
   "metadata": {},
   "outputs": [
    {
     "data": {
      "text/plain": [
       "(6, 7, 8, 9)"
      ]
     },
     "execution_count": 34,
     "metadata": {},
     "output_type": "execute_result"
    }
   ],
   "source": [
    "arreglo = [1, 2, 3, 4, 5, 6, 7, 8, 9, 10]\n",
    "arreglo[0:3] #[0,3[\n",
    "arreglo[5:] #desde ese numero hasta el final. \n",
    "arreglo[:7]# desde el 0 hata esa posicion\n",
    "arreglo[-1]#Indice negativo empieza desd eel final \n",
    "arreglo[-10]#Desde el final\n",
    "arreglo[-8:8]\n",
    "arreglo[-4:-1]\n",
    "arreglo[-7:]\n",
    "arreglo[:-3]\n",
    "arreglo[:]#toma todo el arreglo\n",
    "\n",
    "arreglo_tupla = (1,2,3,4,5,6,7,8,9,10)\n",
    "arreglo_tupla[5:9]\n"
   ]
  },
  {
   "cell_type": "code",
   "execution_count": 43,
   "metadata": {},
   "outputs": [
    {
     "data": {
      "text/plain": [
       "'Jair'"
      ]
     },
     "execution_count": 43,
     "metadata": {},
     "output_type": "execute_result"
    }
   ],
   "source": [
    "diccionario = {\n",
    "    \"nombre\":\"Jair\",\n",
    "    \"apellido\":\"Quiñonez\",\n",
    "    \"sueldo\":\"100.00\"\n",
    "}\n",
    "diccionario['nombre']#los diccionarios funcionan mas como llave valor.\n"
   ]
  },
  {
   "cell_type": "code",
   "execution_count": 53,
   "metadata": {},
   "outputs": [
    {
     "name": "stdout",
     "output_type": "stream",
     "text": [
      "<class 'bool'>\n"
     ]
    },
    {
     "data": {
      "text/plain": [
       "True"
      ]
     },
     "execution_count": 53,
     "metadata": {},
     "output_type": "execute_result"
    }
   ],
   "source": [
    "print(type(12 in arreglo))\n",
    "9 in arreglo# forma util de buscar valores en los arreglos \n",
    "len(diccionario)\n",
    "len(arreglo)\n",
    "len(lista)\n",
    "\"nombre\" in diccionario # para diccionarios e debe poner las \n",
    "                        # llaves \n"
   ]
  },
  {
   "cell_type": "code",
   "execution_count": 58,
   "metadata": {},
   "outputs": [],
   "source": [
    "#arreglo_tupla[0] = 2\n",
    "#arreglo.pop\n",
    "#arreglo.append\n",
    "#arreglo.insert"
   ]
  },
  {
   "cell_type": "code",
   "execution_count": 63,
   "metadata": {},
   "outputs": [
    {
     "name": "stdout",
     "output_type": "stream",
     "text": [
      "1\n",
      "2\n",
      "3\n",
      "4\n",
      "5\n",
      "6\n",
      "7\n",
      "8\n",
      "9\n",
      "10\n"
     ]
    }
   ],
   "source": [
    "for numero_lista in arreglo_tupla:\n",
    "    print(numero_lista)"
   ]
  },
  {
   "cell_type": "code",
   "execution_count": 64,
   "metadata": {},
   "outputs": [
    {
     "name": "stdout",
     "output_type": "stream",
     "text": [
      "nombre\n",
      "apellido\n",
      "sueldo\n"
     ]
    }
   ],
   "source": [
    "for numero_lista in diccionario:\n",
    "    print(numero_lista)"
   ]
  },
  {
   "cell_type": "code",
   "execution_count": 67,
   "metadata": {},
   "outputs": [
    {
     "name": "stdout",
     "output_type": "stream",
     "text": [
      "0\n",
      "1\n",
      "2\n",
      "3\n",
      "4\n",
      "5\n",
      "6\n",
      "7\n",
      "8\n",
      "9\n"
     ]
    }
   ],
   "source": [
    "contador = 0 \n",
    "while contador < 10:\n",
    "    print(contador)\n",
    "    contador+=1"
   ]
  },
  {
   "cell_type": "code",
   "execution_count": 71,
   "metadata": {},
   "outputs": [],
   "source": [
    "jair = {\n",
    "    True: \"Jair\",\n",
    "    False: \"Quiñonez\",\n",
    "    1: 12.2,\n",
    "    1.1: 89,\n",
    "    'edad': 23,\n",
    "    \"mascotas\": [{\"nombre\": 'Max'}],\n",
    "    None: None\n",
    "}"
   ]
  },
  {
   "cell_type": "code",
   "execution_count": 73,
   "metadata": {},
   "outputs": [
    {
     "data": {
      "text/plain": [
       "{True: 12.2,\n",
       " False: 'Quiñonez',\n",
       " 1.1: 89,\n",
       " 'edad': 30,\n",
       " 'mascotas': [{'nombre': 'Luna'}],\n",
       " None: None,\n",
       " 'apellido': 'Quiñonez'}"
      ]
     },
     "execution_count": 73,
     "metadata": {},
     "output_type": "execute_result"
    }
   ],
   "source": [
    "jair['edad']=30\n",
    "jair['apellido']='Quiñonez'\n",
    "jair['mascotas'][0]['nombre'] = \"Luna\"\n",
    "jair"
   ]
  },
  {
   "cell_type": "code",
   "execution_count": 78,
   "metadata": {},
   "outputs": [
    {
     "data": {
      "text/plain": [
       "dict_keys([True, False, 1.1, 'edad', 'mascotas', None, 'apellido'])"
      ]
     },
     "execution_count": 78,
     "metadata": {},
     "output_type": "execute_result"
    }
   ],
   "source": [
    "jair.keys()\n"
   ]
  },
  {
   "cell_type": "code",
   "execution_count": 80,
   "metadata": {},
   "outputs": [
    {
     "name": "stdout",
     "output_type": "stream",
     "text": [
      "<class 'dict_values'>\n"
     ]
    }
   ],
   "source": [
    "print(type(jair.values()))"
   ]
  },
  {
   "cell_type": "code",
   "execution_count": 81,
   "metadata": {},
   "outputs": [
    {
     "name": "stdout",
     "output_type": "stream",
     "text": [
      "True\n",
      "False\n",
      "1.1\n",
      "edad\n",
      "mascotas\n",
      "None\n",
      "apellido\n"
     ]
    }
   ],
   "source": [
    "for llave in jair.keys():\n",
    "    print(llave)"
   ]
  },
  {
   "cell_type": "code",
   "execution_count": 82,
   "metadata": {},
   "outputs": [
    {
     "name": "stdout",
     "output_type": "stream",
     "text": [
      "12.2\n",
      "Quiñonez\n",
      "89\n",
      "30\n",
      "[{'nombre': 'Luna'}]\n",
      "None\n",
      "Quiñonez\n"
     ]
    }
   ],
   "source": [
    "for values in jair.values():\n",
    "    print(values)"
   ]
  },
  {
   "cell_type": "code",
   "execution_count": 83,
   "metadata": {},
   "outputs": [
    {
     "data": {
      "text/plain": [
       "False"
      ]
     },
     "execution_count": 83,
     "metadata": {},
     "output_type": "execute_result"
    }
   ],
   "source": [
    "1==1 or 2==2\n",
    "3!=3 and 4!=4"
   ]
  },
  {
   "cell_type": "code",
   "execution_count": null,
   "metadata": {},
   "outputs": [],
   "source": []
  }
 ],
 "metadata": {
  "kernelspec": {
   "display_name": "Python 3",
   "language": "python",
   "name": "python3"
  },
  "language_info": {
   "codemirror_mode": {
    "name": "ipython",
    "version": 3
   },
   "file_extension": ".py",
   "mimetype": "text/x-python",
   "name": "python",
   "nbconvert_exporter": "python",
   "pygments_lexer": "ipython3",
   "version": "3.7.6"
  }
 },
 "nbformat": 4,
 "nbformat_minor": 4
}
