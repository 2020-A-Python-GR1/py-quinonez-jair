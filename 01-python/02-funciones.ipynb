{
 "cells": [
  {
   "cell_type": "code",
   "execution_count": 6,
   "metadata": {},
   "outputs": [
    {
     "data": {
      "text/plain": [
       "18"
      ]
     },
     "execution_count": 6,
     "metadata": {},
     "output_type": "execute_result"
    }
   ],
   "source": [
    "##funciones \n",
    "def sumar_numeros(primer_numero, *numeros):#parametros infinitos\n",
    "    suma = primer_numero\n",
    "    for numero in numeros:\n",
    "        suma = suma + numero\n",
    "    return suma\n",
    "sumar_numeros(1,2,1,2,3,2,3,4)"
   ]
  },
  {
   "cell_type": "code",
   "execution_count": 9,
   "metadata": {},
   "outputs": [
    {
     "name": "stdout",
     "output_type": "stream",
     "text": [
      "{'saludo': 'Hola', 'mensaje': 'Mundo'}\n",
      "<class 'dict'>\n"
     ]
    }
   ],
   "source": [
    "def establecer_configuracion(**kwargs):#key word arguments\n",
    "    print(kwargs)                      #parametros nombrados\n",
    "    print(type(kwargs))\n",
    "establecer_configuracion(saludo = \"Hola\", mensaje = \"Mundo\")"
   ]
  },
  {
   "cell_type": "code",
   "execution_count": 12,
   "metadata": {},
   "outputs": [
    {
     "name": "stdout",
     "output_type": "stream",
     "text": [
      ":)\n"
     ]
    }
   ],
   "source": [
    "#relas\n",
    "def ejemplo(requerido_uno, requerido_dos, opcional_uno = 1, \n",
    "            opcional_dos = 2, \n",
    "           *infinitos,\n",
    "           **kwargs):\n",
    "    print(\":)\")\n",
    "ejemplo(1, 2)"
   ]
  },
  {
   "cell_type": "code",
   "execution_count": 1,
   "metadata": {},
   "outputs": [
    {
     "name": "stdout",
     "output_type": "stream",
     "text": [
      "Hola Mundo\n"
     ]
    },
    {
     "data": {
      "text/plain": [
       "NoneType"
      ]
     },
     "execution_count": 1,
     "metadata": {},
     "output_type": "execute_result"
    }
   ],
   "source": [
    "#funciones \n",
    "def hola_mundo():#None \n",
    "    print(\"Hola Mundo\")\n",
    "type(hola_mundo())"
   ]
  },
  {
   "cell_type": "code",
   "execution_count": 5,
   "metadata": {},
   "outputs": [
    {
     "name": "stdout",
     "output_type": "stream",
     "text": [
      "9\n",
      "La suma de 6 y 5 es igual a 11\n"
     ]
    }
   ],
   "source": [
    "def sumar_dos_numeros(num_uno, num_dos):#parametros requeridos\n",
    "    return num_uno + num_dos\n",
    "print(sumar_dos_numeros(4,5))\n",
    "total_suma = sumar_dos_numeros(6,5)\n",
    "print(f\"La suma de 6 y 5 es igual a {total_suma}\")"
   ]
  },
  {
   "cell_type": "code",
   "execution_count": 8,
   "metadata": {},
   "outputs": [
    {
     "name": "stdout",
     "output_type": "stream",
     "text": [
      "Universidad: EPN\n",
      "Universidad: Espe\n"
     ]
    }
   ],
   "source": [
    "def imprimir_universidad(nombre = 'EPN'): #parametros opcionales \n",
    "    print(f\"Universidad: {nombre}\" )      #parametros por defecto\n",
    "imprimir_universidad()\n",
    "imprimir_universidad('Espe')"
   ]
  },
  {
   "cell_type": "code",
   "execution_count": 15,
   "metadata": {},
   "outputs": [
    {
     "name": "stdout",
     "output_type": "stream",
     "text": [
      "Color Blanco\n",
      "Placa Abc-1111\n",
      "Horse power 3000\n",
      "Anio 1997\n"
     ]
    }
   ],
   "source": [
    "#regla: Primero parametros requeridos\n",
    "        #segundo parametros opcionales\n",
    "def imprimir_carro(color, placa, hp, anio = 1997):\n",
    "    print(f\"Color {color}\")\n",
    "    print(f\"Placa {placa}\")\n",
    "    print(f\"Horse power {hp}\")\n",
    "    print(f\"Anio {anio}\")\n",
    "imprimir_carro(\"Blanco\", \"Abc-1111\", 3000)"
   ]
  },
  {
   "cell_type": "code",
   "execution_count": 17,
   "metadata": {},
   "outputs": [
    {
     "name": "stdout",
     "output_type": "stream",
     "text": [
      "Color Blanco\n",
      "Placa ABC-1112\n",
      "Horse power 2500\n",
      "Anio 2021\n"
     ]
    }
   ],
   "source": [
    "#parametros nombrado(Named PAarameters)\n",
    "imprimir_carro(anio = 2021, placa = \"ABC-1112\", hp = 2500,\n",
    "               color=\"Blanco\")"
   ]
  },
  {
   "cell_type": "code",
   "execution_count": 18,
   "metadata": {},
   "outputs": [
    {
     "name": "stdout",
     "output_type": "stream",
     "text": [
      "Color negro\n",
      "Placa Abc-1234\n",
      "Horse power 2939\n",
      "Anio 1995\n"
     ]
    }
   ],
   "source": [
    "#Regla:PODEMOS usar parametros por posicion y luego todos los demas \n",
    "    # POdemos usar parametros nombrados\n",
    "imprimir_carro(\"negro\", \"Abc-1234\", anio = 1995, hp = 2939)"
   ]
  },
  {
   "cell_type": "code",
   "execution_count": null,
   "metadata": {},
   "outputs": [],
   "source": []
  }
 ],
 "metadata": {
  "kernelspec": {
   "display_name": "Python 3",
   "language": "python",
   "name": "python3"
  },
  "language_info": {
   "codemirror_mode": {
    "name": "ipython",
    "version": 3
   },
   "file_extension": ".py",
   "mimetype": "text/x-python",
   "name": "python",
   "nbconvert_exporter": "python",
   "pygments_lexer": "ipython3",
   "version": "3.7.6"
  }
 },
 "nbformat": 4,
 "nbformat_minor": 4
}
