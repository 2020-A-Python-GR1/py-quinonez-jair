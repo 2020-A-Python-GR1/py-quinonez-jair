{
 "cells": [
  {
   "cell_type": "code",
   "execution_count": 1,
   "metadata": {},
   "outputs": [],
   "source": [
    "import numpy as np "
   ]
  },
  {
   "cell_type": "code",
   "execution_count": 2,
   "metadata": {},
   "outputs": [],
   "source": [
    "paises_uno = ('Ecuador', 'USA', 'Cuba', 'Venezuela')\n",
    "paises_dos = ('Brazil', 'China', 'Japon', 'Mexico')"
   ]
  },
  {
   "cell_type": "code",
   "execution_count": 3,
   "metadata": {},
   "outputs": [
    {
     "data": {
      "text/plain": [
       "array([['Ecuador', 'USA', 'Cuba', 'Venezuela'],\n",
       "       ['Brazil', 'China', 'Japon', 'Mexico']], dtype='<U9')"
      ]
     },
     "execution_count": 3,
     "metadata": {},
     "output_type": "execute_result"
    }
   ],
   "source": [
    "paises_2d = np.array([paises_uno, paises_dos])\n",
    "paises_2d"
   ]
  },
  {
   "cell_type": "code",
   "execution_count": 6,
   "metadata": {},
   "outputs": [
    {
     "data": {
      "text/plain": [
       "array(['Ecuador', 'USA', 'Cuba', 'Venezuela', 'Brazil', 'China', 'Japon',\n",
       "       'Mexico'], dtype='<U9')"
      ]
     },
     "execution_count": 6,
     "metadata": {},
     "output_type": "execute_result"
    }
   ],
   "source": [
    "paises_2d.flatten() #Hacer un arreglo normal.\n"
   ]
  },
  {
   "cell_type": "code",
   "execution_count": 7,
   "metadata": {},
   "outputs": [
    {
     "data": {
      "text/plain": [
       "array([[['Ecuador', 'USA'],\n",
       "        ['Cuba', 'Venezuela']],\n",
       "\n",
       "       [['Brazil', 'China'],\n",
       "        ['Japon', 'Mexico']]], dtype='<U9')"
      ]
     },
     "execution_count": 7,
     "metadata": {},
     "output_type": "execute_result"
    }
   ],
   "source": [
    "paises_2d.flatten().reshape(2,2,2)"
   ]
  },
  {
   "cell_type": "code",
   "execution_count": 11,
   "metadata": {},
   "outputs": [
    {
     "data": {
      "text/plain": [
       "array([['Ecuador', 'USA', 'Cuba', 'Venezuela'],\n",
       "       ['Brazil', 'China', 'Japon', 'Mexico']], dtype='<U9')"
      ]
     },
     "execution_count": 11,
     "metadata": {},
     "output_type": "execute_result"
    }
   ],
   "source": [
    "paises_2d.flatten().reshape(\n",
    "    -1, #llename con lo que puedas\n",
    "    4\n",
    ")"
   ]
  },
  {
   "cell_type": "code",
   "execution_count": 14,
   "metadata": {},
   "outputs": [
    {
     "data": {
      "text/plain": [
       "array([['Ecuador', 'USA', 'Cuba', 'Venezuela'],\n",
       "       ['Brazil', 'China', 'Japon', 'Mexico']], dtype='<U9')"
      ]
     },
     "execution_count": 14,
     "metadata": {},
     "output_type": "execute_result"
    }
   ],
   "source": [
    "paises_2d.flatten().reshape(\n",
    "    -1, #llename con o que puedas, solo puede haber un -1\n",
    "    4\n",
    ")"
   ]
  },
  {
   "cell_type": "code",
   "execution_count": 17,
   "metadata": {},
   "outputs": [
    {
     "name": "stdout",
     "output_type": "stream",
     "text": [
      "[['Ecuador' 'USA' 'Cuba' 'Venezuela']\n",
      " ['Brazil' 'China' 'Japon' 'Mexico']]\n",
      "(2, 4)\n",
      "[['Ecuador' 'Brazil']\n",
      " ['USA' 'China']\n",
      " ['Cuba' 'Japon']\n",
      " ['Venezuela' 'Mexico']]\n",
      "(4, 2)\n"
     ]
    }
   ],
   "source": [
    "print(paises_2d)\n",
    "print(paises_2d.shape)\n",
    "print(paises_2d.T) #la transpuesta de la matriz \n",
    "print(paises_2d.T.shape)"
   ]
  },
  {
   "cell_type": "code",
   "execution_count": 29,
   "metadata": {},
   "outputs": [
    {
     "data": {
      "text/plain": [
       "[array(['Ecuador', 'USA'], dtype='<U9'),\n",
       " array(['Cuba', 'Venezuela'], dtype='<U9'),\n",
       " array(['Brazil', 'China'], dtype='<U9'),\n",
       " array(['Japon', 'Mexico'], dtype='<U9')]"
      ]
     },
     "execution_count": 29,
     "metadata": {},
     "output_type": "execute_result"
    }
   ],
   "source": [
    "np.split(paises_2d.flatten(), 4) #lo combierte en arreglos de numpy"
   ]
  },
  {
   "cell_type": "code",
   "execution_count": 30,
   "metadata": {},
   "outputs": [
    {
     "data": {
      "text/plain": [
       "[array(['Ecuador'], dtype='<U9'),\n",
       " array(['USA', 'Cuba'], dtype='<U9'),\n",
       " array(['Venezuela', 'Brazil', 'China', 'Japon', 'Mexico'], dtype='<U9')]"
      ]
     },
     "execution_count": 30,
     "metadata": {},
     "output_type": "execute_result"
    }
   ],
   "source": [
    "np.split(paises_2d.flatten(),\n",
    "        [\n",
    "            1, #[0,1[\n",
    "            3, #[1,3[\n",
    "            # El resto se guardan al final [3,7[\n",
    "        ]\n",
    "        )"
   ]
  },
  {
   "cell_type": "code",
   "execution_count": 31,
   "metadata": {},
   "outputs": [],
   "source": [
    "arr1, arr2, arr3, arr4 = np.split(paises_2d.flatten(), 4)\n",
    "#una declaracion de python "
   ]
  },
  {
   "cell_type": "code",
   "execution_count": 38,
   "metadata": {},
   "outputs": [
    {
     "name": "stdout",
     "output_type": "stream",
     "text": [
      "[['Ecuador' 'USA' 'Cuba' 'Venezuela']\n",
      " ['Brazil' 'China' 'Japon' 'Mexico']]\n",
      "[array([['Ecuador', 'USA'],\n",
      "       ['Brazil', 'China']], dtype='<U9'), array([['Cuba', 'Venezuela'],\n",
      "       ['Japon', 'Mexico']], dtype='<U9')]\n",
      "[array([['Ecuador', 'USA', 'Cuba', 'Venezuela']], dtype='<U9'), array([['Brazil', 'China', 'Japon', 'Mexico']], dtype='<U9')]\n",
      "[array([['Ecuador', 'USA', 'Cuba', 'Venezuela']], dtype='<U9'), array([['Brazil', 'China', 'Japon', 'Mexico']], dtype='<U9')]\n"
     ]
    }
   ],
   "source": [
    "print(paises_2d)\n",
    "print(np.hsplit(paises_2d ,2))# horizontal split\n",
    "print(np.vsplit(paises_2d ,2))# vertical split \n",
    "print(np.split(paises_2d, 2))"
   ]
  },
  {
   "cell_type": "code",
   "execution_count": null,
   "metadata": {},
   "outputs": [],
   "source": []
  }
 ],
 "metadata": {
  "kernelspec": {
   "display_name": "Python 3",
   "language": "python",
   "name": "python3"
  },
  "language_info": {
   "codemirror_mode": {
    "name": "ipython",
    "version": 3
   },
   "file_extension": ".py",
   "mimetype": "text/x-python",
   "name": "python",
   "nbconvert_exporter": "python",
   "pygments_lexer": "ipython3",
   "version": "3.7.6"
  }
 },
 "nbformat": 4,
 "nbformat_minor": 4
}
