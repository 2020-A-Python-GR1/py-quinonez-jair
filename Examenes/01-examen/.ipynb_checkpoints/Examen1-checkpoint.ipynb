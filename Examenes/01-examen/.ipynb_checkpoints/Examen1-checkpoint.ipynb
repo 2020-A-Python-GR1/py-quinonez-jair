{
 "cells": [
  {
   "cell_type": "markdown",
   "metadata": {},
   "source": [
    "<h1>Quiñonez Jair Examen</h1>"
   ]
  },
  {
   "cell_type": "markdown",
   "metadata": {},
   "source": [
    "## 1) Examen"
   ]
  },
  {
   "cell_type": "code",
   "execution_count": null,
   "metadata": {},
   "outputs": [],
   "source": [
    "\n"
   ]
  },
  {
   "cell_type": "code",
   "execution_count": 76,
   "metadata": {},
   "outputs": [
    {
     "name": "stdout",
     "output_type": "stream",
     "text": [
      "[0. 0. 0. 0. 0. 0. 0. 0. 0. 0.]\n"
     ]
    }
   ],
   "source": [
    "## 2) \n",
    "import numpy as np \n",
    "arreglo_cero = np.zeros(10)\n",
    "print(arreglo_cero)"
   ]
  },
  {
   "cell_type": "code",
   "execution_count": null,
   "metadata": {},
   "outputs": [],
   "source": [
    "## 3)"
   ]
  },
  {
   "cell_type": "code",
   "execution_count": 3,
   "metadata": {},
   "outputs": [
    {
     "name": "stdout",
     "output_type": "stream",
     "text": [
      "[0. 0. 0. 0. 1. 0. 0. 0. 0. 0.]\n"
     ]
    }
   ],
   "source": [
    "arreglo_cero_con_uno = np.zeros(10)\n",
    "arreglo_cero_con_uno[4] = 1\n",
    "print(arreglo_cero)"
   ]
  },
  {
   "cell_type": "code",
   "execution_count": 77,
   "metadata": {},
   "outputs": [],
   "source": [
    "## 4) "
   ]
  },
  {
   "cell_type": "code",
   "execution_count": 4,
   "metadata": {},
   "outputs": [
    {
     "name": "stdout",
     "output_type": "stream",
     "text": [
      "[49 48 47 46 45 44 43 42 41 40 39 38 37 36 35 34 33 32 31 30 29 28 27 26\n",
      " 25 24 23 22 21 20 19 18 17 16 15 14 13 12 11 10  9  8  7  6  5  4  3  2\n",
      "  1  0]\n"
     ]
    }
   ],
   "source": [
    "arreglo_cincuenta = np.arange(50)\n",
    "cambiado = arreglo_cincuenta[::-1]\n",
    "print(cambiado)"
   ]
  },
  {
   "cell_type": "code",
   "execution_count": 78,
   "metadata": {},
   "outputs": [],
   "source": [
    "## 5)"
   ]
  },
  {
   "cell_type": "code",
   "execution_count": 7,
   "metadata": {},
   "outputs": [
    {
     "name": "stdout",
     "output_type": "stream",
     "text": [
      "[[0 1 2]\n",
      " [3 4 5]\n",
      " [6 7 8]]\n"
     ]
    }
   ],
   "source": [
    "matriz_por_tres = np.arange(9).reshape(3,3)\n",
    "print(matriz_por_tres)"
   ]
  },
  {
   "cell_type": "code",
   "execution_count": 79,
   "metadata": {},
   "outputs": [],
   "source": [
    "## 6) "
   ]
  },
  {
   "cell_type": "code",
   "execution_count": 9,
   "metadata": {},
   "outputs": [
    {
     "name": "stdout",
     "output_type": "stream",
     "text": [
      "Los indices son:(array([0, 1, 4], dtype=int64),)\n"
     ]
    }
   ],
   "source": [
    "import numpy as np\n",
    "arreglo = [1,2,0,0,4,0]\n",
    "\n",
    "no_cero = np.nonzero(arreglo)\n",
    "print(f'Los indices son:{no_cero}')"
   ]
  },
  {
   "cell_type": "code",
   "execution_count": 80,
   "metadata": {},
   "outputs": [],
   "source": [
    "## 7) "
   ]
  },
  {
   "cell_type": "code",
   "execution_count": 11,
   "metadata": {},
   "outputs": [
    {
     "name": "stdout",
     "output_type": "stream",
     "text": [
      "[[1. 0. 0.]\n",
      " [0. 1. 0.]\n",
      " [0. 0. 1.]]\n"
     ]
    }
   ],
   "source": [
    "matriz_identidad = np.eye(3)\n",
    "print(matriz_identidad)"
   ]
  },
  {
   "cell_type": "code",
   "execution_count": 81,
   "metadata": {},
   "outputs": [],
   "source": [
    "## 8) "
   ]
  },
  {
   "cell_type": "code",
   "execution_count": 12,
   "metadata": {},
   "outputs": [
    {
     "name": "stdout",
     "output_type": "stream",
     "text": [
      "[[[0.08534897 0.38785073 0.09416351]\n",
      "  [0.74699407 0.43223412 0.09207427]\n",
      "  [0.37048918 0.5718459  0.51500941]]\n",
      "\n",
      " [[0.49083152 0.23975248 0.10549726]\n",
      "  [0.62305098 0.24670063 0.01038802]\n",
      "  [0.01362475 0.66272826 0.3948951 ]]\n",
      "\n",
      " [[0.30145905 0.38570478 0.60817877]\n",
      "  [0.11723159 0.85823584 0.81094027]\n",
      "  [0.79379434 0.05997884 0.28365122]]]\n"
     ]
    }
   ],
   "source": [
    "matriz_radom_tres = np.random.random((3,3,3))\n",
    "print(matriz_radom_tres)"
   ]
  },
  {
   "cell_type": "code",
   "execution_count": 82,
   "metadata": {},
   "outputs": [],
   "source": [
    "## 9) "
   ]
  },
  {
   "cell_type": "code",
   "execution_count": 13,
   "metadata": {},
   "outputs": [
    {
     "name": "stdout",
     "output_type": "stream",
     "text": [
      "[[0.56777516 0.75589539 0.38810064 0.16727477 0.04123197 0.2801929\n",
      "  0.84351561 0.32159798 0.84619567 0.23205822]\n",
      " [0.44525681 0.32126181 0.26769746 0.01845599 0.88225582 0.72768848\n",
      "  0.08688964 0.75308792 0.85091384 0.58546963]\n",
      " [0.96881689 0.72999201 0.86566372 0.59429548 0.79075545 0.65837172\n",
      "  0.41753127 0.96696904 0.62158152 0.49509321]\n",
      " [0.79217027 0.82654913 0.86275683 0.75101154 0.38509958 0.97127804\n",
      "  0.37359927 0.4362343  0.53777014 0.14729626]\n",
      " [0.05107377 0.13767842 0.85629886 0.53415216 0.79058532 0.38024388\n",
      "  0.51097862 0.51191554 0.06149596 0.28574206]\n",
      " [0.73653796 0.09877172 0.14567436 0.53102172 0.52655679 0.96698176\n",
      "  0.71020925 0.07499439 0.07508474 0.63365689]\n",
      " [0.45366267 0.78870057 0.65922414 0.46725866 0.20565413 0.10979754\n",
      "  0.80026455 0.50412171 0.65722528 0.4651562 ]\n",
      " [0.98649482 0.58227236 0.94265877 0.7431304  0.37314387 0.24054546\n",
      "  0.0118268  0.29469362 0.67232469 0.09434831]\n",
      " [0.31080928 0.16497932 0.72078568 0.86048113 0.6810847  0.0513164\n",
      "  0.81727496 0.98535869 0.87973467 0.85904779]\n",
      " [0.76114414 0.81337303 0.52312259 0.84884561 0.57857175 0.14932772\n",
      "  0.37790756 0.14060717 0.11711691 0.88473595]]\n",
      "El mayor: 0.9864948222587473\n",
      "El menor: 0.011826796850298527\n"
     ]
    }
   ],
   "source": [
    "matriz_diez = np.random.random((10,10))\n",
    "print(matriz_diez)\n",
    "print(f'El mayor: {matriz_diez.max()}')\n",
    "print(f'El menor: {matriz_diez.min()}')\n"
   ]
  },
  {
   "cell_type": "code",
   "execution_count": 83,
   "metadata": {},
   "outputs": [],
   "source": [
    "## 10) "
   ]
  },
  {
   "cell_type": "code",
   "execution_count": 20,
   "metadata": {},
   "outputs": [
    {
     "name": "stdout",
     "output_type": "stream",
     "text": [
      "[[  0   0   5]\n",
      " [  0   0   7]\n",
      " [  0   0   9]\n",
      " ...\n",
      " [255 248 255]\n",
      " [255 249 255]\n",
      " [255 252 255]]\n",
      "--> 2 Colores\n"
     ]
    }
   ],
   "source": [
    "from scipy import misc\n",
    "from scipy import ndimage\n",
    "\n",
    "imagen = misc.face()\n",
    "rgb = np.unique(imagen.reshape(-1, imagen.shape[2]), axis=0)\n",
    "print(rgb)\n",
    "print('--> 2 Colores')"
   ]
  },
  {
   "cell_type": "code",
   "execution_count": 86,
   "metadata": {},
   "outputs": [],
   "source": [
    "## 11) \n"
   ]
  },
  {
   "cell_type": "code",
   "execution_count": 27,
   "metadata": {},
   "outputs": [
    {
     "name": "stdout",
     "output_type": "stream",
     "text": [
      "0     a\n",
      "1     b\n",
      "2     c\n",
      "3     e\n",
      "4     d\n",
      "5     f\n",
      "6     g\n",
      "7     h\n",
      "8     i\n",
      "9     j\n",
      "10    k\n",
      "11    l\n",
      "12    m\n",
      "13    n\n",
      "14    o\n",
      "15    p\n",
      "16    q\n",
      "17    r\n",
      "18    s\n",
      "19    t\n",
      "20    u\n",
      "21    v\n",
      "22    w\n",
      "23    x\n",
      "24    y\n",
      "25    z\n",
      "dtype: object\n",
      "0      0\n",
      "1      1\n",
      "2      2\n",
      "3      3\n",
      "4      4\n",
      "5      5\n",
      "6      6\n",
      "7      7\n",
      "8      8\n",
      "9      9\n",
      "10    10\n",
      "11    11\n",
      "12    12\n",
      "13    13\n",
      "14    14\n",
      "15    15\n",
      "16    16\n",
      "17    17\n",
      "18    18\n",
      "19    19\n",
      "20    20\n",
      "21    21\n",
      "22    22\n",
      "23    23\n",
      "24    24\n",
      "25    25\n",
      "dtype: int32\n",
      "a     0\n",
      "b     1\n",
      "c     2\n",
      "e     3\n",
      "d     4\n",
      "f     5\n",
      "g     6\n",
      "h     7\n",
      "i     8\n",
      "j     9\n",
      "k    10\n",
      "l    11\n",
      "m    12\n",
      "n    13\n",
      "o    14\n",
      "p    15\n",
      "q    16\n",
      "r    17\n",
      "s    18\n",
      "t    19\n",
      "u    20\n",
      "v    21\n",
      "w    22\n",
      "x    23\n",
      "y    24\n",
      "z    25\n",
      "dtype: int64\n"
     ]
    }
   ],
   "source": [
    "\n",
    "import numpy as np\n",
    "mylist = list('abcedfghijklmnopqrstuvwxyz')\n",
    "myarr = np.arange(26)\n",
    "mydict = dict(zip(mylist, myarr))\n",
    "import pandas as pd\n",
    "lista_serie = pd.Series(mylist)\n",
    "arreglo_serie = pd.Series(myarr)\n",
    "dicci_serie = pd.Series(mydict)\n",
    "print(lista_serie)\n",
    "print(arreglo_serie)\n",
    "print(dicci_serie)"
   ]
  },
  {
   "cell_type": "code",
   "execution_count": 85,
   "metadata": {},
   "outputs": [],
   "source": [
    "## 12) \n"
   ]
  },
  {
   "cell_type": "code",
   "execution_count": 30,
   "metadata": {},
   "outputs": [
    {
     "name": "stdout",
     "output_type": "stream",
     "text": [
      "a     0\n",
      "b     1\n",
      "c     2\n",
      "e     3\n",
      "d     4\n",
      "f     5\n",
      "g     6\n",
      "h     7\n",
      "i     8\n",
      "j     9\n",
      "k    10\n",
      "l    11\n",
      "m    12\n",
      "n    13\n",
      "o    14\n",
      "p    15\n",
      "q    16\n",
      "r    17\n",
      "s    18\n",
      "t    19\n",
      "u    20\n",
      "v    21\n",
      "w    22\n",
      "x    23\n",
      "y    24\n",
      "z    25\n",
      "dtype: int64\n",
      "<bound method DataFrame.reset_index of     0\n",
      "a   0\n",
      "b   1\n",
      "c   2\n",
      "e   3\n",
      "d   4\n",
      "f   5\n",
      "g   6\n",
      "h   7\n",
      "i   8\n",
      "j   9\n",
      "k  10\n",
      "l  11\n",
      "m  12\n",
      "n  13\n",
      "o  14\n",
      "p  15\n",
      "q  16\n",
      "r  17\n",
      "s  18\n",
      "t  19\n",
      "u  20\n",
      "v  21\n",
      "w  22\n",
      "x  23\n",
      "y  24\n",
      "z  25>\n"
     ]
    }
   ],
   "source": [
    "mylist = list('abcedfghijklmnopqrstuvwxyz')\n",
    "myarr = np.arange(26)\n",
    "mydict = dict(zip(mylist, myarr))\n",
    "ser = pd.Series(mydict)\n",
    "# Transformar la serie en dataframe y hacer una columna indice\n",
    "print(ser)\n",
    "dataFrame = ser.to_frame().reset_index\n",
    "print(dataFrame)"
   ]
  },
  {
   "cell_type": "code",
   "execution_count": 84,
   "metadata": {},
   "outputs": [],
   "source": [
    "## 13) "
   ]
  },
  {
   "cell_type": "code",
   "execution_count": 34,
   "metadata": {},
   "outputs": [
    {
     "name": "stdout",
     "output_type": "stream",
     "text": [
      "   Primera  Segunda\n",
      "0        a        0\n",
      "1        b        1\n",
      "2        c        2\n",
      "3        e        3\n",
      "4        d        4\n",
      "5        f        5\n",
      "6        g        6\n",
      "7        h        7\n",
      "8        i        8\n",
      "9        j        9\n",
      "10       k       10\n",
      "11       l       11\n",
      "12       m       12\n",
      "13       n       13\n",
      "14       o       14\n",
      "15       p       15\n",
      "16       q       16\n",
      "17       r       17\n",
      "18       s       18\n",
      "19       t       19\n",
      "20       u       20\n",
      "21       v       21\n",
      "22       w       22\n",
      "23       x       23\n",
      "24       y       24\n",
      "25       z       25\n"
     ]
    }
   ],
   "source": [
    "\n",
    "import numpy as np\n",
    "ser1 = pd.Series(list('abcedfghijklmnopqrstuvwxyz'))\n",
    "ser2 = pd.Series(np.arange(26))\n",
    "#a = pd.DataFrame\n",
    "dataFrame_series = pd.DataFrame({'Primera': ser1,'Segunda': ser2})\n",
    "print(dataFrame_series)\n"
   ]
  },
  {
   "cell_type": "markdown",
   "metadata": {},
   "source": []
  },
  {
   "cell_type": "code",
   "execution_count": 40,
   "metadata": {},
   "outputs": [
    {
     "name": "stdout",
     "output_type": "stream",
     "text": [
      "Los que no estan son\n",
      "0    1\n",
      "1    2\n",
      "2    3\n",
      "dtype: int64\n"
     ]
    }
   ],
   "source": [
    "## 14) ¿Como obtener los items que esten en una serie A y no en una serie B?\n",
    "ser1 = pd.Series([1, 2, 3, 4, 5])\n",
    "ser2 = pd.Series([4, 5, 6, 7, 8])\n",
    "test= ser1[-ser1.isin(ser2)]\n",
    "print('Los que no estan son')\n",
    "print(test)"
   ]
  },
  {
   "cell_type": "code",
   "execution_count": 45,
   "metadata": {},
   "outputs": [
    {
     "name": "stdout",
     "output_type": "stream",
     "text": [
      "NO COMUNES EN AMBAS\n",
      "[1 2 3 6 7 8]\n"
     ]
    }
   ],
   "source": [
    "## 15) ¿Como obtener los items que no son comunes en una serie A y serie B?\n",
    "ser1 = pd.Series([1, 2, 3, 4, 5])\n",
    "ser2 = pd.Series([4, 5, 6, 7, 8])\n",
    "\n",
    "a_notB = ser1[-ser1.isin(ser2)]\n",
    "b_notA = ser2[-ser2.isin(ser1)]\n",
    "\n",
    "no_comun = np.append(a_notB,b_notA)\n",
    "print('NO COMUNES EN AMBAS')\n",
    "print(no_comun)"
   ]
  },
  {
   "cell_type": "code",
   "execution_count": 38,
   "metadata": {},
   "outputs": [
    {
     "name": "stdout",
     "output_type": "stream",
     "text": [
      "c    7\n",
      "d    5\n",
      "f    5\n",
      "g    3\n",
      "e    3\n",
      "h    3\n",
      "b    3\n",
      "a    1\n",
      "dtype: int64\n"
     ]
    }
   ],
   "source": [
    "## 16)\n",
    "ser = pd.Series(np.take(list('abcdefgh'), np.random.randint(8, size=30)))\n",
    "repe = ser.value_counts()\n",
    "print(repe)\n"
   ]
  },
  {
   "cell_type": "code",
   "execution_count": 54,
   "metadata": {},
   "outputs": [
    {
     "name": "stdout",
     "output_type": "stream",
     "text": [
      "La SERIE \n",
      "0     1\n",
      "1     3\n",
      "2     4\n",
      "3     1\n",
      "4     1\n",
      "5     3\n",
      "6     2\n",
      "7     3\n",
      "8     2\n",
      "9     1\n",
      "10    2\n",
      "11    1\n",
      "dtype: int32\n",
      "REPETIDOS- \n",
      "VALOR/REPE \n",
      "1    5\n",
      "3    3\n",
      "2    3\n",
      "4    1\n",
      "dtype: int64\n",
      "Cambiados pos cero \n",
      "0     1\n",
      "1     3\n",
      "2     0\n",
      "3     1\n",
      "4     1\n",
      "5     3\n",
      "6     0\n",
      "7     3\n",
      "8     0\n",
      "9     1\n",
      "10    0\n",
      "11    1\n",
      "dtype: int32\n"
     ]
    }
   ],
   "source": [
    "## 17)\n",
    "np.random.RandomState(100)\n",
    "ser = pd.Series(np.random.randint(1, 5, [12]))\n",
    "print(f'La SERIE \\n{ser}')\n",
    "print(f'REPETIDOS- \\nVALOR/REPE \\n{ser.value_counts()}')\n",
    "ser[-ser.isin(ser.value_counts().index[:2])] = 0\n",
    "print(f'Cambiados pos cero \\n{ser}')"
   ]
  },
  {
   "cell_type": "code",
   "execution_count": 56,
   "metadata": {},
   "outputs": [
    {
     "name": "stdout",
     "output_type": "stream",
     "text": [
      "   0  1  2  3  4\n",
      "0  2  7  5  7  2\n",
      "1  3  4  9  7  5\n",
      "2  1  5  6  3  9\n",
      "3  5  3  4  8  7\n",
      "4  9  4  1  2  8\n",
      "5  3  8  4  2  9\n",
      "6  3  2  9  7  1\n"
     ]
    }
   ],
   "source": [
    "## 18) ¿Como transformar una serie de un arreglo de numpy a un DataFrame con un `shape` definido?\n",
    "ser = pd.Series(np.random.randint(1, 10, 35))\n",
    "#shape(7,5)\n",
    "dataFrame_transfor = pd.DataFrame(ser.values.reshape(7,5))\n",
    "print(dataFrame_transfor)\n"
   ]
  },
  {
   "cell_type": "code",
   "execution_count": 58,
   "metadata": {},
   "outputs": [
    {
     "name": "stdout",
     "output_type": "stream",
     "text": [
      "0     a\n",
      "4     e\n",
      "8     i\n",
      "14    o\n",
      "20    u\n",
      "dtype: object\n"
     ]
    }
   ],
   "source": [
    "## 19) ¿Obtener los valores de una serie conociendo la posicion por indice?\n",
    "ser = pd.Series(list('abcdefghijklmnopqrstuvwxyz'))\n",
    "pos = [0, 4, 8, 14, 20]\n",
    "# a e i o u\n",
    "\n",
    "indice = ser.take(pos)\n",
    "print(indice)"
   ]
  },
  {
   "cell_type": "code",
   "execution_count": 60,
   "metadata": {},
   "outputs": [
    {
     "name": "stdout",
     "output_type": "stream",
     "text": [
      "   0  1\n",
      "0  0  a\n",
      "1  1  b\n",
      "2  2  c\n",
      "3  3  d\n",
      "4  4  e\n"
     ]
    }
   ],
   "source": [
    "## 20) ¿Como anadir series vertical u horizontalmente a un DataFrame?\n",
    "ser1 = pd.Series(range(5))\n",
    "ser2 = pd.Series(list('abcde'))\n",
    "dataFrame_agregado = pd.concat([ser1,ser2], axis=1)\n",
    "print(dataFrame_agregado)"
   ]
  },
  {
   "cell_type": "code",
   "execution_count": 68,
   "metadata": {},
   "outputs": [
    {
     "name": "stdout",
     "output_type": "stream",
     "text": [
      "[1.0, 2.0, 3.0, 4.0, 5.0, 6.0, 7.0, 8.0, 9.0, 10.0]\n",
      "['banana', 'manzana', 'zanahoria', 'manzana', 'zanahoria', 'zanahoria', 'zanahoria', 'manzana', 'banana', 'banana']\n",
      "La MEDIA ES \n",
      "banana       6.666667\n",
      "manzana      4.666667\n",
      "zanahoria    5.250000\n",
      "dtype: float64\n"
     ]
    }
   ],
   "source": [
    "## 21)¿Obtener la media de una serie agrupada por otra serie?\n",
    "#`groupby` tambien esta disponible en series.\n",
    "frutas = pd.Series(np.random.choice(['manzana', 'banana', 'zanahoria'], 10))\n",
    "pesos = pd.Series(np.linspace(1, 10, 10))\n",
    "print(pesos.tolist())\n",
    "print(frutas.tolist())\n",
    "#> [1.0, 2.0, 3.0, 4.0, 5.0, 6.0, 7.0, 8.0, 9.0, 10.0]\n",
    "#> ['banana', 'carrot', 'apple', 'carrot', 'carrot', 'apple', 'banana', 'carrot', 'apple', 'carrot']\n",
    "\n",
    "# Los valores van a cambiar por ser random\n",
    "# apple     6.0\n",
    "# banana    4.0\n",
    "# carrot    5.8\n",
    "# dtype: float64\n",
    "media = pesos.groupby(frutas).mean()\n",
    "print(f'La MEDIA ES \\n{media}')\n"
   ]
  },
  {
   "cell_type": "code",
   "execution_count": 74,
   "metadata": {},
   "outputs": [
    {
     "name": "stdout",
     "output_type": "stream",
     "text": [
      "EL COMPLETO\n",
      "        crim    zn  indus  chas    nox     rm   age     dis  rad  tax  \\\n",
      "0    0.00632  18.0   2.31     0  0.538  6.575  65.2  4.0900    1  296   \n",
      "1    0.02731   0.0   7.07     0  0.469  6.421  78.9  4.9671    2  242   \n",
      "2    0.02729   0.0   7.07     0  0.469  7.185  61.1  4.9671    2  242   \n",
      "3    0.03237   0.0   2.18     0  0.458  6.998  45.8  6.0622    3  222   \n",
      "4    0.06905   0.0   2.18     0  0.458  7.147  54.2  6.0622    3  222   \n",
      "..       ...   ...    ...   ...    ...    ...   ...     ...  ...  ...   \n",
      "501  0.06263   0.0  11.93     0  0.573  6.593  69.1  2.4786    1  273   \n",
      "502  0.04527   0.0  11.93     0  0.573  6.120  76.7  2.2875    1  273   \n",
      "503  0.06076   0.0  11.93     0  0.573  6.976  91.0  2.1675    1  273   \n",
      "504  0.10959   0.0  11.93     0  0.573  6.794  89.3  2.3889    1  273   \n",
      "505  0.04741   0.0  11.93     0  0.573  6.030  80.8  2.5050    1  273   \n",
      "\n",
      "     ptratio       b  lstat  medv  \n",
      "0       15.3  396.90   4.98  24.0  \n",
      "1       17.8  396.90   9.14  21.6  \n",
      "2       17.8  392.83   4.03  34.7  \n",
      "3       18.7  394.63   2.94  33.4  \n",
      "4       18.7  396.90   5.33  36.2  \n",
      "..       ...     ...    ...   ...  \n",
      "501     21.0  391.99   9.67  22.4  \n",
      "502     21.0  396.90   9.08  20.6  \n",
      "503     21.0  396.90   5.64  23.9  \n",
      "504     21.0  393.45   6.48  22.0  \n",
      "505     21.0  396.90   7.88  11.9  \n",
      "\n",
      "[506 rows x 14 columns]\n",
      "\n",
      "\n",
      "ESPECIFICAS\n",
      "       zn    nox  rad  tax\n",
      "0    18.0  0.538    1  296\n",
      "1     0.0  0.469    2  242\n",
      "2     0.0  0.469    2  242\n",
      "3     0.0  0.458    3  222\n",
      "4     0.0  0.458    3  222\n",
      "..    ...    ...  ...  ...\n",
      "501   0.0  0.573    1  273\n",
      "502   0.0  0.573    1  273\n",
      "503   0.0  0.573    1  273\n",
      "504   0.0  0.573    1  273\n",
      "505   0.0  0.573    1  273\n",
      "\n",
      "[506 rows x 4 columns]\n"
     ]
    }
   ],
   "source": [
    "## 22)¿Como importar solo columnas especificas de un archivo csv?\n",
    "\n",
    "##https://raw.githubusercontent.com/selva86/datasets/master/BostonHousing.csv.\n",
    "path = 'https://raw.githubusercontent.com/selva86/datasets/master/BostonHousing.csv'\n",
    "data_importado = pd.read_csv(path)\n",
    "print('EL COMPLETO')\n",
    "print(data_importado)\n",
    "colums = ['nox','rad','tax','zn']\n",
    "data_importado_especificas = pd.read_csv(path, usecols=colums)\n",
    "print('\\n\\nESPECIFICAS')\n",
    "print(data_importado_especificas)"
   ]
  },
  {
   "cell_type": "code",
   "execution_count": null,
   "metadata": {},
   "outputs": [],
   "source": []
  }
 ],
 "metadata": {
  "kernelspec": {
   "display_name": "Python 3",
   "language": "python",
   "name": "python3"
  },
  "language_info": {
   "codemirror_mode": {
    "name": "ipython",
    "version": 3
   },
   "file_extension": ".py",
   "mimetype": "text/x-python",
   "name": "python",
   "nbconvert_exporter": "python",
   "pygments_lexer": "ipython3",
   "version": "3.7.6"
  }
 },
 "nbformat": 4,
 "nbformat_minor": 4
}
