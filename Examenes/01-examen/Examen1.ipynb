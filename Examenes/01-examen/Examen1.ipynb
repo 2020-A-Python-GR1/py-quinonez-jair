{
 "cells": [
  {
   "cell_type": "markdown",
   "metadata": {},
   "source": [
    "<h1>Quiñonez Jair Examen</h1>"
   ]
  },
  {
   "cell_type": "markdown",
   "metadata": {},
   "source": [
    "## 1) Examen"
   ]
  },
  {
   "cell_type": "code",
   "execution_count": null,
   "metadata": {},
   "outputs": [],
   "source": [
    "\n"
   ]
  },
  {
   "cell_type": "code",
   "execution_count": 87,
   "metadata": {},
   "outputs": [
    {
     "name": "stdout",
     "output_type": "stream",
     "text": [
      "[0. 0. 0. 0. 0. 0. 0. 0. 0. 0.]\n"
     ]
    }
   ],
   "source": [
    "## 2) \n",
    "import numpy as np \n",
    "arreglo_cero = np.zeros(10)\n",
    "print(arreglo_cero)"
   ]
  },
  {
   "cell_type": "code",
   "execution_count": 88,
   "metadata": {},
   "outputs": [],
   "source": [
    "## 3)"
   ]
  },
  {
   "cell_type": "code",
   "execution_count": 89,
   "metadata": {},
   "outputs": [
    {
     "name": "stdout",
     "output_type": "stream",
     "text": [
      "[0. 0. 0. 0. 0. 0. 0. 0. 0. 0.]\n"
     ]
    }
   ],
   "source": [
    "arreglo_cero_con_uno = np.zeros(10)\n",
    "arreglo_cero_con_uno[4] = 1\n",
    "print(arreglo_cero)"
   ]
  },
  {
   "cell_type": "code",
   "execution_count": 90,
   "metadata": {},
   "outputs": [],
   "source": [
    "## 4) "
   ]
  },
  {
   "cell_type": "code",
   "execution_count": 91,
   "metadata": {},
   "outputs": [
    {
     "name": "stdout",
     "output_type": "stream",
     "text": [
      "[49 48 47 46 45 44 43 42 41 40 39 38 37 36 35 34 33 32 31 30 29 28 27 26\n",
      " 25 24 23 22 21 20 19 18 17 16 15 14 13 12 11 10  9  8  7  6  5  4  3  2\n",
      "  1  0]\n"
     ]
    }
   ],
   "source": [
    "arreglo_cincuenta = np.arange(50)\n",
    "cambiado = arreglo_cincuenta[::-1]\n",
    "print(cambiado)"
   ]
  },
  {
   "cell_type": "code",
   "execution_count": 92,
   "metadata": {},
   "outputs": [],
   "source": [
    "## 5)"
   ]
  },
  {
   "cell_type": "code",
   "execution_count": 93,
   "metadata": {},
   "outputs": [
    {
     "name": "stdout",
     "output_type": "stream",
     "text": [
      "[[0 1 2]\n",
      " [3 4 5]\n",
      " [6 7 8]]\n"
     ]
    }
   ],
   "source": [
    "matriz_por_tres = np.arange(9).reshape(3,3)\n",
    "print(matriz_por_tres)"
   ]
  },
  {
   "cell_type": "code",
   "execution_count": 94,
   "metadata": {},
   "outputs": [],
   "source": [
    "## 6) "
   ]
  },
  {
   "cell_type": "code",
   "execution_count": 95,
   "metadata": {},
   "outputs": [
    {
     "name": "stdout",
     "output_type": "stream",
     "text": [
      "Los indices son:(array([0, 1, 4], dtype=int64),)\n"
     ]
    }
   ],
   "source": [
    "import numpy as np\n",
    "arreglo = [1,2,0,0,4,0]\n",
    "\n",
    "no_cero = np.nonzero(arreglo)\n",
    "print(f'Los indices son:{no_cero}')"
   ]
  },
  {
   "cell_type": "code",
   "execution_count": 96,
   "metadata": {},
   "outputs": [],
   "source": [
    "## 7) "
   ]
  },
  {
   "cell_type": "code",
   "execution_count": 97,
   "metadata": {},
   "outputs": [
    {
     "name": "stdout",
     "output_type": "stream",
     "text": [
      "[[1. 0. 0.]\n",
      " [0. 1. 0.]\n",
      " [0. 0. 1.]]\n"
     ]
    }
   ],
   "source": [
    "matriz_identidad = np.eye(3)\n",
    "print(matriz_identidad)"
   ]
  },
  {
   "cell_type": "code",
   "execution_count": 98,
   "metadata": {},
   "outputs": [],
   "source": [
    "## 8) "
   ]
  },
  {
   "cell_type": "code",
   "execution_count": 99,
   "metadata": {},
   "outputs": [
    {
     "name": "stdout",
     "output_type": "stream",
     "text": [
      "[[[0.48441795 0.72295732 0.26361239]\n",
      "  [0.74203996 0.94850517 0.70252109]\n",
      "  [0.31449318 0.05749017 0.82850321]]\n",
      "\n",
      " [[0.07797769 0.74539708 0.13175067]\n",
      "  [0.72291666 0.56456996 0.23689024]\n",
      "  [0.39024557 0.71262466 0.83255246]]\n",
      "\n",
      " [[0.1997431  0.08511762 0.97928966]\n",
      "  [0.43185088 0.25539565 0.12918438]\n",
      "  [0.25445213 0.36855183 0.09175753]]]\n"
     ]
    }
   ],
   "source": [
    "matriz_radom_tres = np.random.random((3,3,3))\n",
    "print(matriz_radom_tres)"
   ]
  },
  {
   "cell_type": "code",
   "execution_count": 100,
   "metadata": {},
   "outputs": [],
   "source": [
    "## 9) "
   ]
  },
  {
   "cell_type": "code",
   "execution_count": 101,
   "metadata": {},
   "outputs": [
    {
     "name": "stdout",
     "output_type": "stream",
     "text": [
      "[[0.40722607 0.01558753 0.08346411 0.59810292 0.86384218 0.4048329\n",
      "  0.93462212 0.13075298 0.67763957 0.14694493]\n",
      " [0.93107516 0.81882097 0.03253356 0.76185902 0.29705901 0.65677858\n",
      "  0.48360569 0.4467438  0.13319864 0.15522616]\n",
      " [0.24058983 0.74321847 0.25351982 0.1913076  0.02350987 0.98569681\n",
      "  0.5407269  0.38942283 0.53687805 0.39954473]\n",
      " [0.85892649 0.62493197 0.05421508 0.25040739 0.55520906 0.37692034\n",
      "  0.81307695 0.00419109 0.80683271 0.09535143]\n",
      " [0.48759716 0.43350813 0.92336485 0.47662474 0.74133048 0.40989293\n",
      "  0.47094188 0.23203858 0.9221709  0.91016994]\n",
      " [0.43553512 0.01971853 0.52215805 0.85871467 0.70318465 0.36638804\n",
      "  0.64517787 0.14420041 0.55810735 0.9857186 ]\n",
      " [0.91658349 0.17041849 0.32316058 0.35092576 0.88406943 0.99634829\n",
      "  0.26889535 0.0779694  0.37721002 0.26530515]\n",
      " [0.3017566  0.4571905  0.02732279 0.06994786 0.18461282 0.27723215\n",
      "  0.99342404 0.27370717 0.94153843 0.31904258]\n",
      " [0.63711662 0.51249477 0.13715353 0.94488849 0.14143583 0.5234299\n",
      "  0.28262511 0.686282   0.5185542  0.63421084]\n",
      " [0.00775795 0.19953761 0.02512026 0.10138056 0.70529966 0.53316365\n",
      "  0.66049952 0.19273286 0.08946658 0.7664867 ]]\n",
      "El mayor: 0.9963482858861208\n",
      "El menor: 0.004191086115695519\n"
     ]
    }
   ],
   "source": [
    "matriz_diez = np.random.random((10,10))\n",
    "print(matriz_diez)\n",
    "print(f'El mayor: {matriz_diez.max()}')\n",
    "print(f'El menor: {matriz_diez.min()}')\n"
   ]
  },
  {
   "cell_type": "code",
   "execution_count": 102,
   "metadata": {},
   "outputs": [],
   "source": [
    "## 10) "
   ]
  },
  {
   "cell_type": "code",
   "execution_count": 103,
   "metadata": {},
   "outputs": [
    {
     "name": "stdout",
     "output_type": "stream",
     "text": [
      "[[  0   0   5]\n",
      " [  0   0   7]\n",
      " [  0   0   9]\n",
      " ...\n",
      " [255 248 255]\n",
      " [255 249 255]\n",
      " [255 252 255]]\n",
      "--> 2 Colores\n"
     ]
    }
   ],
   "source": [
    "from scipy import misc\n",
    "from scipy import ndimage\n",
    "\n",
    "imagen = misc.face()\n",
    "rgb = np.unique(imagen.reshape(-1, imagen.shape[2]), axis=0)\n",
    "print(rgb)\n",
    "print('--> 2 Colores')"
   ]
  },
  {
   "cell_type": "code",
   "execution_count": 104,
   "metadata": {},
   "outputs": [],
   "source": [
    "## 11) \n"
   ]
  },
  {
   "cell_type": "code",
   "execution_count": 105,
   "metadata": {},
   "outputs": [
    {
     "name": "stdout",
     "output_type": "stream",
     "text": [
      "0     a\n",
      "1     b\n",
      "2     c\n",
      "3     e\n",
      "4     d\n",
      "5     f\n",
      "6     g\n",
      "7     h\n",
      "8     i\n",
      "9     j\n",
      "10    k\n",
      "11    l\n",
      "12    m\n",
      "13    n\n",
      "14    o\n",
      "15    p\n",
      "16    q\n",
      "17    r\n",
      "18    s\n",
      "19    t\n",
      "20    u\n",
      "21    v\n",
      "22    w\n",
      "23    x\n",
      "24    y\n",
      "25    z\n",
      "dtype: object\n",
      "0      0\n",
      "1      1\n",
      "2      2\n",
      "3      3\n",
      "4      4\n",
      "5      5\n",
      "6      6\n",
      "7      7\n",
      "8      8\n",
      "9      9\n",
      "10    10\n",
      "11    11\n",
      "12    12\n",
      "13    13\n",
      "14    14\n",
      "15    15\n",
      "16    16\n",
      "17    17\n",
      "18    18\n",
      "19    19\n",
      "20    20\n",
      "21    21\n",
      "22    22\n",
      "23    23\n",
      "24    24\n",
      "25    25\n",
      "dtype: int32\n",
      "a     0\n",
      "b     1\n",
      "c     2\n",
      "e     3\n",
      "d     4\n",
      "f     5\n",
      "g     6\n",
      "h     7\n",
      "i     8\n",
      "j     9\n",
      "k    10\n",
      "l    11\n",
      "m    12\n",
      "n    13\n",
      "o    14\n",
      "p    15\n",
      "q    16\n",
      "r    17\n",
      "s    18\n",
      "t    19\n",
      "u    20\n",
      "v    21\n",
      "w    22\n",
      "x    23\n",
      "y    24\n",
      "z    25\n",
      "dtype: int64\n"
     ]
    }
   ],
   "source": [
    "\n",
    "import numpy as np\n",
    "mylist = list('abcedfghijklmnopqrstuvwxyz')\n",
    "myarr = np.arange(26)\n",
    "mydict = dict(zip(mylist, myarr))\n",
    "import pandas as pd\n",
    "lista_serie = pd.Series(mylist)\n",
    "arreglo_serie = pd.Series(myarr)\n",
    "dicci_serie = pd.Series(mydict)\n",
    "print(lista_serie)\n",
    "print(arreglo_serie)\n",
    "print(dicci_serie)"
   ]
  },
  {
   "cell_type": "code",
   "execution_count": 106,
   "metadata": {},
   "outputs": [],
   "source": [
    "## 12) \n"
   ]
  },
  {
   "cell_type": "code",
   "execution_count": 107,
   "metadata": {},
   "outputs": [
    {
     "name": "stdout",
     "output_type": "stream",
     "text": [
      "a     0\n",
      "b     1\n",
      "c     2\n",
      "e     3\n",
      "d     4\n",
      "f     5\n",
      "g     6\n",
      "h     7\n",
      "i     8\n",
      "j     9\n",
      "k    10\n",
      "l    11\n",
      "m    12\n",
      "n    13\n",
      "o    14\n",
      "p    15\n",
      "q    16\n",
      "r    17\n",
      "s    18\n",
      "t    19\n",
      "u    20\n",
      "v    21\n",
      "w    22\n",
      "x    23\n",
      "y    24\n",
      "z    25\n",
      "dtype: int64\n",
      "<bound method DataFrame.reset_index of     0\n",
      "a   0\n",
      "b   1\n",
      "c   2\n",
      "e   3\n",
      "d   4\n",
      "f   5\n",
      "g   6\n",
      "h   7\n",
      "i   8\n",
      "j   9\n",
      "k  10\n",
      "l  11\n",
      "m  12\n",
      "n  13\n",
      "o  14\n",
      "p  15\n",
      "q  16\n",
      "r  17\n",
      "s  18\n",
      "t  19\n",
      "u  20\n",
      "v  21\n",
      "w  22\n",
      "x  23\n",
      "y  24\n",
      "z  25>\n"
     ]
    }
   ],
   "source": [
    "mylist = list('abcedfghijklmnopqrstuvwxyz')\n",
    "myarr = np.arange(26)\n",
    "mydict = dict(zip(mylist, myarr))\n",
    "ser = pd.Series(mydict)\n",
    "# Transformar la serie en dataframe y hacer una columna indice\n",
    "print(ser)\n",
    "dataFrame = ser.to_frame().reset_index\n",
    "print(dataFrame)"
   ]
  },
  {
   "cell_type": "code",
   "execution_count": 108,
   "metadata": {},
   "outputs": [],
   "source": [
    "## 13) "
   ]
  },
  {
   "cell_type": "code",
   "execution_count": 109,
   "metadata": {},
   "outputs": [
    {
     "name": "stdout",
     "output_type": "stream",
     "text": [
      "   Primera  Segunda\n",
      "0        a        0\n",
      "1        b        1\n",
      "2        c        2\n",
      "3        e        3\n",
      "4        d        4\n",
      "5        f        5\n",
      "6        g        6\n",
      "7        h        7\n",
      "8        i        8\n",
      "9        j        9\n",
      "10       k       10\n",
      "11       l       11\n",
      "12       m       12\n",
      "13       n       13\n",
      "14       o       14\n",
      "15       p       15\n",
      "16       q       16\n",
      "17       r       17\n",
      "18       s       18\n",
      "19       t       19\n",
      "20       u       20\n",
      "21       v       21\n",
      "22       w       22\n",
      "23       x       23\n",
      "24       y       24\n",
      "25       z       25\n"
     ]
    }
   ],
   "source": [
    "\n",
    "import numpy as np\n",
    "ser1 = pd.Series(list('abcedfghijklmnopqrstuvwxyz'))\n",
    "ser2 = pd.Series(np.arange(26))\n",
    "#a = pd.DataFrame\n",
    "dataFrame_series = pd.DataFrame({'Primera': ser1,'Segunda': ser2})\n",
    "print(dataFrame_series)\n"
   ]
  },
  {
   "cell_type": "markdown",
   "metadata": {},
   "source": []
  },
  {
   "cell_type": "code",
   "execution_count": 110,
   "metadata": {},
   "outputs": [
    {
     "name": "stdout",
     "output_type": "stream",
     "text": [
      "Los que no estan son\n",
      "0    1\n",
      "1    2\n",
      "2    3\n",
      "dtype: int64\n"
     ]
    }
   ],
   "source": [
    "## 14) ¿Como obtener los items que esten en una serie A y no en una serie B?\n",
    "ser1 = pd.Series([1, 2, 3, 4, 5])\n",
    "ser2 = pd.Series([4, 5, 6, 7, 8])\n",
    "test= ser1[-ser1.isin(ser2)]\n",
    "print('Los que no estan son')\n",
    "print(test)"
   ]
  },
  {
   "cell_type": "code",
   "execution_count": 111,
   "metadata": {},
   "outputs": [
    {
     "name": "stdout",
     "output_type": "stream",
     "text": [
      "NO COMUNES EN AMBAS\n",
      "[1 2 3 6 7 8]\n"
     ]
    }
   ],
   "source": [
    "## 15) ¿Como obtener los items que no son comunes en una serie A y serie B?\n",
    "ser1 = pd.Series([1, 2, 3, 4, 5])\n",
    "ser2 = pd.Series([4, 5, 6, 7, 8])\n",
    "\n",
    "a_notB = ser1[-ser1.isin(ser2)]\n",
    "b_notA = ser2[-ser2.isin(ser1)]\n",
    "\n",
    "no_comun = np.append(a_notB,b_notA)\n",
    "print('NO COMUNES EN AMBAS')\n",
    "print(no_comun)"
   ]
  },
  {
   "cell_type": "code",
   "execution_count": 112,
   "metadata": {},
   "outputs": [
    {
     "name": "stdout",
     "output_type": "stream",
     "text": [
      "c    8\n",
      "e    7\n",
      "a    5\n",
      "b    3\n",
      "d    2\n",
      "f    2\n",
      "g    2\n",
      "h    1\n",
      "dtype: int64\n"
     ]
    }
   ],
   "source": [
    "## 16)\n",
    "ser = pd.Series(np.take(list('abcdefgh'), np.random.randint(8, size=30)))\n",
    "repe = ser.value_counts()\n",
    "print(repe)\n"
   ]
  },
  {
   "cell_type": "code",
   "execution_count": 113,
   "metadata": {},
   "outputs": [
    {
     "name": "stdout",
     "output_type": "stream",
     "text": [
      "La SERIE \n",
      "0     2\n",
      "1     2\n",
      "2     4\n",
      "3     2\n",
      "4     4\n",
      "5     3\n",
      "6     1\n",
      "7     3\n",
      "8     2\n",
      "9     3\n",
      "10    2\n",
      "11    3\n",
      "dtype: int32\n",
      "REPETIDOS- \n",
      "VALOR/REPE \n",
      "2    5\n",
      "3    4\n",
      "4    2\n",
      "1    1\n",
      "dtype: int64\n",
      "Cambiados pos cero \n",
      "0     2\n",
      "1     2\n",
      "2     0\n",
      "3     2\n",
      "4     0\n",
      "5     3\n",
      "6     0\n",
      "7     3\n",
      "8     2\n",
      "9     3\n",
      "10    2\n",
      "11    3\n",
      "dtype: int32\n"
     ]
    }
   ],
   "source": [
    "## 17)\n",
    "np.random.RandomState(100)\n",
    "ser = pd.Series(np.random.randint(1, 5, [12]))\n",
    "print(f'La SERIE \\n{ser}')\n",
    "print(f'REPETIDOS- \\nVALOR/REPE \\n{ser.value_counts()}')\n",
    "ser[-ser.isin(ser.value_counts().index[:2])] = 0\n",
    "print(f'Cambiados pos cero \\n{ser}')"
   ]
  },
  {
   "cell_type": "code",
   "execution_count": 114,
   "metadata": {},
   "outputs": [
    {
     "name": "stdout",
     "output_type": "stream",
     "text": [
      "   0  1  2  3  4\n",
      "0  6  2  4  2  7\n",
      "1  8  8  5  2  5\n",
      "2  2  2  5  7  7\n",
      "3  2  5  7  8  1\n",
      "4  4  9  5  6  8\n",
      "5  2  4  5  4  9\n",
      "6  5  6  6  9  8\n"
     ]
    }
   ],
   "source": [
    "## 18) ¿Como transformar una serie de un arreglo de numpy a un DataFrame con un `shape` definido?\n",
    "ser = pd.Series(np.random.randint(1, 10, 35))\n",
    "#shape(7,5)\n",
    "dataFrame_transfor = pd.DataFrame(ser.values.reshape(7,5))\n",
    "print(dataFrame_transfor)\n"
   ]
  },
  {
   "cell_type": "code",
   "execution_count": 115,
   "metadata": {},
   "outputs": [
    {
     "name": "stdout",
     "output_type": "stream",
     "text": [
      "0     a\n",
      "4     e\n",
      "8     i\n",
      "14    o\n",
      "20    u\n",
      "dtype: object\n"
     ]
    }
   ],
   "source": [
    "## 19) ¿Obtener los valores de una serie conociendo la posicion por indice?\n",
    "ser = pd.Series(list('abcdefghijklmnopqrstuvwxyz'))\n",
    "pos = [0, 4, 8, 14, 20]\n",
    "# a e i o u\n",
    "\n",
    "indice = ser.take(pos)\n",
    "print(indice)"
   ]
  },
  {
   "cell_type": "code",
   "execution_count": 116,
   "metadata": {},
   "outputs": [
    {
     "name": "stdout",
     "output_type": "stream",
     "text": [
      "   0  1\n",
      "0  0  a\n",
      "1  1  b\n",
      "2  2  c\n",
      "3  3  d\n",
      "4  4  e\n"
     ]
    }
   ],
   "source": [
    "## 20) ¿Como anadir series vertical u horizontalmente a un DataFrame?\n",
    "ser1 = pd.Series(range(5))\n",
    "ser2 = pd.Series(list('abcde'))\n",
    "dataFrame_agregado = pd.concat([ser1,ser2], axis=1)\n",
    "print(dataFrame_agregado)"
   ]
  },
  {
   "cell_type": "code",
   "execution_count": 117,
   "metadata": {},
   "outputs": [
    {
     "name": "stdout",
     "output_type": "stream",
     "text": [
      "[1.0, 2.0, 3.0, 4.0, 5.0, 6.0, 7.0, 8.0, 9.0, 10.0]\n",
      "['zanahoria', 'banana', 'zanahoria', 'manzana', 'banana', 'zanahoria', 'zanahoria', 'banana', 'banana', 'zanahoria']\n",
      "La MEDIA ES \n",
      "banana       6.0\n",
      "manzana      4.0\n",
      "zanahoria    5.4\n",
      "dtype: float64\n"
     ]
    }
   ],
   "source": [
    "## 21)¿Obtener la media de una serie agrupada por otra serie?\n",
    "#`groupby` tambien esta disponible en series.\n",
    "frutas = pd.Series(np.random.choice(['manzana', 'banana', 'zanahoria'], 10))\n",
    "pesos = pd.Series(np.linspace(1, 10, 10))\n",
    "print(pesos.tolist())\n",
    "print(frutas.tolist())\n",
    "#> [1.0, 2.0, 3.0, 4.0, 5.0, 6.0, 7.0, 8.0, 9.0, 10.0]\n",
    "#> ['banana', 'carrot', 'apple', 'carrot', 'carrot', 'apple', 'banana', 'carrot', 'apple', 'carrot']\n",
    "\n",
    "# Los valores van a cambiar por ser random\n",
    "# apple     6.0\n",
    "# banana    4.0\n",
    "# carrot    5.8\n",
    "# dtype: float64\n",
    "media = pesos.groupby(frutas).mean()\n",
    "print(f'La MEDIA ES \\n{media}')\n"
   ]
  },
  {
   "cell_type": "code",
   "execution_count": 118,
   "metadata": {},
   "outputs": [
    {
     "name": "stdout",
     "output_type": "stream",
     "text": [
      "EL COMPLETO\n",
      "        crim    zn  indus  chas    nox     rm   age     dis  rad  tax  \\\n",
      "0    0.00632  18.0   2.31     0  0.538  6.575  65.2  4.0900    1  296   \n",
      "1    0.02731   0.0   7.07     0  0.469  6.421  78.9  4.9671    2  242   \n",
      "2    0.02729   0.0   7.07     0  0.469  7.185  61.1  4.9671    2  242   \n",
      "3    0.03237   0.0   2.18     0  0.458  6.998  45.8  6.0622    3  222   \n",
      "4    0.06905   0.0   2.18     0  0.458  7.147  54.2  6.0622    3  222   \n",
      "..       ...   ...    ...   ...    ...    ...   ...     ...  ...  ...   \n",
      "501  0.06263   0.0  11.93     0  0.573  6.593  69.1  2.4786    1  273   \n",
      "502  0.04527   0.0  11.93     0  0.573  6.120  76.7  2.2875    1  273   \n",
      "503  0.06076   0.0  11.93     0  0.573  6.976  91.0  2.1675    1  273   \n",
      "504  0.10959   0.0  11.93     0  0.573  6.794  89.3  2.3889    1  273   \n",
      "505  0.04741   0.0  11.93     0  0.573  6.030  80.8  2.5050    1  273   \n",
      "\n",
      "     ptratio       b  lstat  medv  \n",
      "0       15.3  396.90   4.98  24.0  \n",
      "1       17.8  396.90   9.14  21.6  \n",
      "2       17.8  392.83   4.03  34.7  \n",
      "3       18.7  394.63   2.94  33.4  \n",
      "4       18.7  396.90   5.33  36.2  \n",
      "..       ...     ...    ...   ...  \n",
      "501     21.0  391.99   9.67  22.4  \n",
      "502     21.0  396.90   9.08  20.6  \n",
      "503     21.0  396.90   5.64  23.9  \n",
      "504     21.0  393.45   6.48  22.0  \n",
      "505     21.0  396.90   7.88  11.9  \n",
      "\n",
      "[506 rows x 14 columns]\n",
      "\n",
      "\n",
      "ESPECIFICAS\n",
      "       zn    nox  rad  tax\n",
      "0    18.0  0.538    1  296\n",
      "1     0.0  0.469    2  242\n",
      "2     0.0  0.469    2  242\n",
      "3     0.0  0.458    3  222\n",
      "4     0.0  0.458    3  222\n",
      "..    ...    ...  ...  ...\n",
      "501   0.0  0.573    1  273\n",
      "502   0.0  0.573    1  273\n",
      "503   0.0  0.573    1  273\n",
      "504   0.0  0.573    1  273\n",
      "505   0.0  0.573    1  273\n",
      "\n",
      "[506 rows x 4 columns]\n"
     ]
    }
   ],
   "source": [
    "## 22)¿Como importar solo columnas especificas de un archivo csv?\n",
    "\n",
    "##https://raw.githubusercontent.com/selva86/datasets/master/BostonHousing.csv.\n",
    "path = 'https://raw.githubusercontent.com/selva86/datasets/master/BostonHousing.csv'\n",
    "data_importado = pd.read_csv(path)\n",
    "print('EL COMPLETO')\n",
    "print(data_importado)\n",
    "colums = ['nox','rad','tax','zn']\n",
    "data_importado_especificas = pd.read_csv(path, usecols=colums)\n",
    "print('\\n\\nESPECIFICAS')\n",
    "print(data_importado_especificas)"
   ]
  },
  {
   "cell_type": "code",
   "execution_count": null,
   "metadata": {},
   "outputs": [],
   "source": []
  },
  {
   "cell_type": "code",
   "execution_count": null,
   "metadata": {},
   "outputs": [],
   "source": []
  }
 ],
 "metadata": {
  "kernelspec": {
   "display_name": "Python 3",
   "language": "python",
   "name": "python3"
  },
  "language_info": {
   "codemirror_mode": {
    "name": "ipython",
    "version": 3
   },
   "file_extension": ".py",
   "mimetype": "text/x-python",
   "name": "python",
   "nbconvert_exporter": "python",
   "pygments_lexer": "ipython3",
   "version": "3.7.6"
  }
 },
 "nbformat": 4,
 "nbformat_minor": 4
}
