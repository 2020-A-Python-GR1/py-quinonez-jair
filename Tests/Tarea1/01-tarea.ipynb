{
 "cells": [
  {
   "cell_type": "code",
   "execution_count": 5,
   "metadata": {},
   "outputs": [
    {
     "name": "stdout",
     "output_type": "stream",
     "text": [
      "[]\n"
     ]
    }
   ],
   "source": [
    "#Genero \n",
    "def crear_genero():\n",
    "    try:\n",
    "        path = \"./Genero.txt\"\n",
    "        archivo_genero = open(path, 'w')\n",
    "        lineas = archivo_genero.readlines()\n",
    "        print(lineas)\n",
    "        archivo_genero.close()\n",
    "    except Exception as Error:\n",
    "        print(\"Error al encontrar el Archivo\")\n",
    "\n",
    "def leer_genero():\n",
    "    try:\n",
    "        path = \"./Genero.txt\"\n",
    "        archivo_leer = open(path, 'r')\n",
    "        contenido = archivo_leer.readlines()\n",
    "        print(contenido)\n",
    "        archivo_leer.close()\n",
    "    except Exception as Error:\n",
    "        print(\"No se pudo leer\")\n",
    "\n",
    "\n",
    "    "
   ]
  },
  {
   "cell_type": "code",
   "execution_count": 45,
   "metadata": {},
   "outputs": [
    {
     "name": "stdout",
     "output_type": "stream",
     "text": [
      "Escrito correctamente\n"
     ]
    }
   ],
   "source": [
    "import os as salto\n",
    "def escribir_genero(nombre, estilo, ambientacion, formato, publico):\n",
    "    try:\n",
    "        path = \"./Genero.txt\"\n",
    "        archivo_genero = open(path, 'a')\n",
    "        archivo_genero.write(nombre+salto.linesep)\n",
    "        archivo_genero.write(estilo + salto.linesep)\n",
    "        archivo_genero.write(ambientacion +salto.linesep)\n",
    "        archivo_genero.write(formato + salto.linesep)\n",
    "        archivo_genero.write(publico + salto.linesep)\n",
    "        print(\"Escrito correctamente\")\n",
    "        archivo_genero.close()\n",
    "    except Exception as Error:\n",
    "        print(\"Error al encontrar el Archivo\")\n",
    "escribir_genero(\"wwww\",\"rrrr\",\"tttt\", \"Duuuu\", \"kkk\")"
   ]
  },
  {
   "cell_type": "code",
   "execution_count": 44,
   "metadata": {},
   "outputs": [
    {
     "name": "stdout",
     "output_type": "stream",
     "text": [
      "Escrito correctamente\n",
      "['The truman Show\\n', '\\n', '1:30:00\\n', '\\n', '1997\\n', '\\n', 'Argento\\n', '\\n', '2001\\n', '\\n', 'The truman Show\\n', '\\n', '1:30:00\\n', '\\n', '1997\\n', '\\n', 'Argento\\n', '\\n', '2001\\n', '\\n', 'The truman Show\\n', '\\n', '1:30:00\\n', '\\n', '1997\\n', '\\n', 'Argento\\n', '\\n', '2001\\n', '\\n', 'The truman Show\\n', '\\n', '1:30:00\\n', '\\n', '1997\\n', '\\n', 'Argento\\n', '\\n', '2001\\n', '\\n']\n"
     ]
    }
   ],
   "source": [
    "#Peliculas\n",
    "def crear_pelicula():\n",
    "    try:\n",
    "        path = \"./Peliculas.txt\"\n",
    "        archivo_pelicula = open(path, 'w')\n",
    "        lineas = archivo_pelicula.readlines()\n",
    "        print(lineas)\n",
    "        archivo_pelicula.close()\n",
    "    except Exception as Error:\n",
    "        print(\"Error al encontrar el Archivo\")\n",
    "\n",
    "def leer_pelicula():\n",
    "    try:\n",
    "        path = \"./Peliculas.txt\"\n",
    "        archivo_leerp = open(path, 'r')\n",
    "        contenido = archivo_leerp.readlines()\n",
    "        print(contenido)\n",
    "        archivo_leerp.close()\n",
    "    except Exception as Error:\n",
    "        print(\"No se pudo leer\")\n",
    "        \n",
    "def escribir_pelicula(nombre, duracion, anio_estreno, director, pais):\n",
    "    try:\n",
    "        path = \"./Peliculas.txt\"\n",
    "        archivo_pelicula = open(path, 'a')\n",
    "        archivo_pelicula.write(nombre +salto.linesep)\n",
    "        archivo_pelicula.write(duracion + salto.linesep)\n",
    "        archivo_pelicula.write(anio_estreno +salto.linesep)\n",
    "        archivo_pelicula.write(director + salto.linesep)\n",
    "        archivo_pelicula.write(pais + salto.linesep)\n",
    "        print(\"Escrito correctamente\")\n",
    "        archivo_pelicula.close()\n",
    "    except Exception as Error:\n",
    "        print(\"Error al encontrar el Archivo\")\n",
    "escribir_pelicula(\"The truman Show\",\"1:30:00\",\"1997\", \"Argento\", \"2001\")\n",
    "leer_pelicula()"
   ]
  },
  {
   "cell_type": "code",
   "execution_count": null,
   "metadata": {},
   "outputs": [],
   "source": []
  },
  {
   "cell_type": "code",
   "execution_count": null,
   "metadata": {},
   "outputs": [],
   "source": []
  }
 ],
 "metadata": {
  "kernelspec": {
   "display_name": "Python 3",
   "language": "python",
   "name": "python3"
  },
  "language_info": {
   "codemirror_mode": {
    "name": "ipython",
    "version": 3
   },
   "file_extension": ".py",
   "mimetype": "text/x-python",
   "name": "python",
   "nbconvert_exporter": "python",
   "pygments_lexer": "ipython3",
   "version": "3.7.6"
  }
 },
 "nbformat": 4,
 "nbformat_minor": 4
}
