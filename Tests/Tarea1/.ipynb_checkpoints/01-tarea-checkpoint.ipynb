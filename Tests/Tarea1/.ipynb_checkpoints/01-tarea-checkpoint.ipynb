{
 "cells": [
  {
   "cell_type": "code",
   "execution_count": 5,
   "metadata": {},
   "outputs": [
    {
     "name": "stdout",
     "output_type": "stream",
     "text": [
      "[]\n"
     ]
    }
   ],
   "source": [
    "def crear_genero():\n",
    "    try:\n",
    "        path = \"./Genero.txt\"\n",
    "        archivo_genero = open(path, 'w')\n",
    "        lineas = archivo_genero.readlines()\n",
    "        print(lineas)\n",
    "        archivo_genero.close()\n",
    "    except Exception as Error:\n",
    "        print(\"Error al encontrar el Archivo\")\n",
    "\n",
    "def leer_genero():\n",
    "    try:\n",
    "        path = \"./Genero.txt\"\n",
    "        archivo_leer = open(path, 'r')\n",
    "        contenido = archivo_leer.readlines()\n",
    "        print(contenido)\n",
    "        archivo_leer.close()\n",
    "    except Exception as Error:\n",
    "        print(\"No se pudo leer\")\n",
    "leer_genero()\n",
    "\n",
    "    "
   ]
  },
  {
   "cell_type": "code",
   "execution_count": 18,
   "metadata": {},
   "outputs": [
    {
     "ename": "TypeError",
     "evalue": "escribir_genero() takes 1 positional argument but 2 were given",
     "output_type": "error",
     "traceback": [
      "\u001b[1;31m---------------------------------------------------------------------------\u001b[0m",
      "\u001b[1;31mTypeError\u001b[0m                                 Traceback (most recent call last)",
      "\u001b[1;32m<ipython-input-18-8534c0219384>\u001b[0m in \u001b[0;36m<module>\u001b[1;34m\u001b[0m\n\u001b[0;32m     10\u001b[0m     \u001b[1;32mexcept\u001b[0m \u001b[0mException\u001b[0m \u001b[1;32mas\u001b[0m \u001b[0mError\u001b[0m\u001b[1;33m:\u001b[0m\u001b[1;33m\u001b[0m\u001b[1;33m\u001b[0m\u001b[0m\n\u001b[0;32m     11\u001b[0m         \u001b[0mprint\u001b[0m\u001b[1;33m(\u001b[0m\u001b[1;34m\"Error al encontrar el Archivo\"\u001b[0m\u001b[1;33m)\u001b[0m\u001b[1;33m\u001b[0m\u001b[1;33m\u001b[0m\u001b[0m\n\u001b[1;32m---> 12\u001b[1;33m \u001b[0mescribir_genero\u001b[0m\u001b[1;33m(\u001b[0m\u001b[1;34m\"Que verga pasa con esto\"\u001b[0m\u001b[1;33m,\u001b[0m\u001b[1;34m\"nell\"\u001b[0m\u001b[1;33m)\u001b[0m\u001b[1;33m\u001b[0m\u001b[1;33m\u001b[0m\u001b[0m\n\u001b[0m",
      "\u001b[1;31mTypeError\u001b[0m: escribir_genero() takes 1 positional argument but 2 were given"
     ]
    }
   ],
   "source": [
    "def escribir_genero(nombre,nell):\n",
    "    try:\n",
    "        path = \"./Genero.txt\"\n",
    "        archivo_genero = open(path, 'w')\n",
    "        print(\"Se abrio\")\n",
    "        archivo_genero.write(nombre,nell)\n",
    "        \n",
    "        print(\"Escrito correctamente\")\n",
    "        archivo_genero.close()\n",
    "    except Exception as Error:\n",
    "        print(\"Error al encontrar el Archivo\")\n",
    "escribir_genero(\"Que verga pasa con esto\",\"nell\")"
   ]
  },
  {
   "cell_type": "code",
   "execution_count": null,
   "metadata": {},
   "outputs": [],
   "source": []
  },
  {
   "cell_type": "code",
   "execution_count": null,
   "metadata": {},
   "outputs": [],
   "source": []
  }
 ],
 "metadata": {
  "kernelspec": {
   "display_name": "Python 3",
   "language": "python",
   "name": "python3"
  },
  "language_info": {
   "codemirror_mode": {
    "name": "ipython",
    "version": 3
   },
   "file_extension": ".py",
   "mimetype": "text/x-python",
   "name": "python",
   "nbconvert_exporter": "python",
   "pygments_lexer": "ipython3",
   "version": "3.7.6"
  }
 },
 "nbformat": 4,
 "nbformat_minor": 4
}
