{
 "cells": [
  {
   "cell_type": "markdown",
   "metadata": {
    "_cell_guid": "57a422b3-4b1a-47a8-8feb-fe8550ab1a1c",
    "_execution_state": "idle",
    "_uuid": "a7ab569989e3db56cb889bcb5a173b9cd8ad6881"
   },
   "source": []
  },
  {
   "cell_type": "code",
   "execution_count": 1,
   "metadata": {
    "_cell_guid": "9d902519-b289-4298-973a-538ff6f35e6c",
    "_execution_state": "idle",
    "_uuid": "60b84e9a8a3c5801f673cfd96d8f707c1c4502d0"
   },
   "outputs": [],
   "source": [
    "import numpy as np\n",
    "import pandas as pd\n",
    "import matplotlib.pyplot as plt\n",
    "%matplotlib inline\n",
    "import seaborn as sns"
   ]
  },
  {
   "cell_type": "code",
   "execution_count": 2,
   "metadata": {
    "_cell_guid": "95e40649-bb65-44b8-b6f7-8d45206d9201",
    "_execution_state": "idle",
    "_uuid": "b7f06255027407ee0f6b4e76093516aca24aa1a9"
   },
   "outputs": [],
   "source": [
    "path = 'E:\\EPN\\Python\\ReposPY\\py-quinonez-jair\\Proyectos_indivuales\\Dataset_csv_Quinonez\\data\\IMDB-Movie-Data.csv'\n",
    "imdbdata=pd.read_csv(path)"
   ]
  },
  {
   "cell_type": "code",
   "execution_count": 3,
   "metadata": {
    "_cell_guid": "7ec17045-e636-44eb-b7bd-520a1d9816cc",
    "_execution_state": "idle",
    "_uuid": "f103fb3f6b92d71b731071f657e296afa9d7e86a"
   },
   "outputs": [
    {
     "data": {
      "text/html": [
       "<div>\n",
       "<style scoped>\n",
       "    .dataframe tbody tr th:only-of-type {\n",
       "        vertical-align: middle;\n",
       "    }\n",
       "\n",
       "    .dataframe tbody tr th {\n",
       "        vertical-align: top;\n",
       "    }\n",
       "\n",
       "    .dataframe thead th {\n",
       "        text-align: right;\n",
       "    }\n",
       "</style>\n",
       "<table border=\"1\" class=\"dataframe\">\n",
       "  <thead>\n",
       "    <tr style=\"text-align: right;\">\n",
       "      <th></th>\n",
       "      <th>Rank</th>\n",
       "      <th>Title</th>\n",
       "      <th>Genre</th>\n",
       "      <th>Description</th>\n",
       "      <th>Director</th>\n",
       "      <th>Actors</th>\n",
       "      <th>Year</th>\n",
       "      <th>Runtime (Minutes)</th>\n",
       "      <th>Rating</th>\n",
       "      <th>Votes</th>\n",
       "      <th>Revenue (Millions)</th>\n",
       "      <th>Metascore</th>\n",
       "    </tr>\n",
       "  </thead>\n",
       "  <tbody>\n",
       "    <tr>\n",
       "      <th>0</th>\n",
       "      <td>1</td>\n",
       "      <td>Guardians of the Galaxy</td>\n",
       "      <td>Action,Adventure,Sci-Fi</td>\n",
       "      <td>A group of intergalactic criminals are forced ...</td>\n",
       "      <td>James Gunn</td>\n",
       "      <td>Chris Pratt, Vin Diesel, Bradley Cooper, Zoe S...</td>\n",
       "      <td>2014</td>\n",
       "      <td>121</td>\n",
       "      <td>8.1</td>\n",
       "      <td>757074</td>\n",
       "      <td>333.13</td>\n",
       "      <td>76.0</td>\n",
       "    </tr>\n",
       "    <tr>\n",
       "      <th>1</th>\n",
       "      <td>2</td>\n",
       "      <td>Prometheus</td>\n",
       "      <td>Adventure,Mystery,Sci-Fi</td>\n",
       "      <td>Following clues to the origin of mankind, a te...</td>\n",
       "      <td>Ridley Scott</td>\n",
       "      <td>Noomi Rapace, Logan Marshall-Green, Michael Fa...</td>\n",
       "      <td>2012</td>\n",
       "      <td>124</td>\n",
       "      <td>7.0</td>\n",
       "      <td>485820</td>\n",
       "      <td>126.46</td>\n",
       "      <td>65.0</td>\n",
       "    </tr>\n",
       "    <tr>\n",
       "      <th>2</th>\n",
       "      <td>3</td>\n",
       "      <td>Split</td>\n",
       "      <td>Horror,Thriller</td>\n",
       "      <td>Three girls are kidnapped by a man with a diag...</td>\n",
       "      <td>M. Night Shyamalan</td>\n",
       "      <td>James McAvoy, Anya Taylor-Joy, Haley Lu Richar...</td>\n",
       "      <td>2016</td>\n",
       "      <td>117</td>\n",
       "      <td>7.3</td>\n",
       "      <td>157606</td>\n",
       "      <td>138.12</td>\n",
       "      <td>62.0</td>\n",
       "    </tr>\n",
       "    <tr>\n",
       "      <th>3</th>\n",
       "      <td>4</td>\n",
       "      <td>Sing</td>\n",
       "      <td>Animation,Comedy,Family</td>\n",
       "      <td>In a city of humanoid animals, a hustling thea...</td>\n",
       "      <td>Christophe Lourdelet</td>\n",
       "      <td>Matthew McConaughey,Reese Witherspoon, Seth Ma...</td>\n",
       "      <td>2016</td>\n",
       "      <td>108</td>\n",
       "      <td>7.2</td>\n",
       "      <td>60545</td>\n",
       "      <td>270.32</td>\n",
       "      <td>59.0</td>\n",
       "    </tr>\n",
       "    <tr>\n",
       "      <th>4</th>\n",
       "      <td>5</td>\n",
       "      <td>Suicide Squad</td>\n",
       "      <td>Action,Adventure,Fantasy</td>\n",
       "      <td>A secret government agency recruits some of th...</td>\n",
       "      <td>David Ayer</td>\n",
       "      <td>Will Smith, Jared Leto, Margot Robbie, Viola D...</td>\n",
       "      <td>2016</td>\n",
       "      <td>123</td>\n",
       "      <td>6.2</td>\n",
       "      <td>393727</td>\n",
       "      <td>325.02</td>\n",
       "      <td>40.0</td>\n",
       "    </tr>\n",
       "  </tbody>\n",
       "</table>\n",
       "</div>"
      ],
      "text/plain": [
       "   Rank                    Title                     Genre  \\\n",
       "0     1  Guardians of the Galaxy   Action,Adventure,Sci-Fi   \n",
       "1     2               Prometheus  Adventure,Mystery,Sci-Fi   \n",
       "2     3                    Split           Horror,Thriller   \n",
       "3     4                     Sing   Animation,Comedy,Family   \n",
       "4     5            Suicide Squad  Action,Adventure,Fantasy   \n",
       "\n",
       "                                         Description              Director  \\\n",
       "0  A group of intergalactic criminals are forced ...            James Gunn   \n",
       "1  Following clues to the origin of mankind, a te...          Ridley Scott   \n",
       "2  Three girls are kidnapped by a man with a diag...    M. Night Shyamalan   \n",
       "3  In a city of humanoid animals, a hustling thea...  Christophe Lourdelet   \n",
       "4  A secret government agency recruits some of th...            David Ayer   \n",
       "\n",
       "                                              Actors  Year  Runtime (Minutes)  \\\n",
       "0  Chris Pratt, Vin Diesel, Bradley Cooper, Zoe S...  2014                121   \n",
       "1  Noomi Rapace, Logan Marshall-Green, Michael Fa...  2012                124   \n",
       "2  James McAvoy, Anya Taylor-Joy, Haley Lu Richar...  2016                117   \n",
       "3  Matthew McConaughey,Reese Witherspoon, Seth Ma...  2016                108   \n",
       "4  Will Smith, Jared Leto, Margot Robbie, Viola D...  2016                123   \n",
       "\n",
       "   Rating   Votes  Revenue (Millions)  Metascore  \n",
       "0     8.1  757074              333.13       76.0  \n",
       "1     7.0  485820              126.46       65.0  \n",
       "2     7.3  157606              138.12       62.0  \n",
       "3     7.2   60545              270.32       59.0  \n",
       "4     6.2  393727              325.02       40.0  "
      ]
     },
     "execution_count": 3,
     "metadata": {},
     "output_type": "execute_result"
    }
   ],
   "source": [
    "imdbdata.head()"
   ]
  },
  {
   "cell_type": "code",
   "execution_count": 4,
   "metadata": {
    "_cell_guid": "c0c9956e-7491-4f2f-9b0f-139569cda9b9",
    "_execution_state": "idle",
    "_uuid": "6c7c20931ad75da59e3c27ecb3ea02b07b85ab04"
   },
   "outputs": [
    {
     "name": "stdout",
     "output_type": "stream",
     "text": [
      "<class 'pandas.core.frame.DataFrame'>\n",
      "RangeIndex: 1000 entries, 0 to 999\n",
      "Data columns (total 12 columns):\n",
      " #   Column              Non-Null Count  Dtype  \n",
      "---  ------              --------------  -----  \n",
      " 0   Rank                1000 non-null   int64  \n",
      " 1   Title               1000 non-null   object \n",
      " 2   Genre               1000 non-null   object \n",
      " 3   Description         1000 non-null   object \n",
      " 4   Director            1000 non-null   object \n",
      " 5   Actors              1000 non-null   object \n",
      " 6   Year                1000 non-null   int64  \n",
      " 7   Runtime (Minutes)   1000 non-null   int64  \n",
      " 8   Rating              1000 non-null   float64\n",
      " 9   Votes               1000 non-null   int64  \n",
      " 10  Revenue (Millions)  872 non-null    float64\n",
      " 11  Metascore           936 non-null    float64\n",
      "dtypes: float64(3), int64(4), object(5)\n",
      "memory usage: 93.9+ KB\n"
     ]
    }
   ],
   "source": [
    "imdbdata.info()"
   ]
  },
  {
   "cell_type": "code",
   "execution_count": 5,
   "metadata": {
    "_cell_guid": "5bf81edb-131d-4b07-ac41-13d4028821ee",
    "_execution_state": "idle",
    "_uuid": "6275cc5f80ab4c19fd2d4dec1082226037e68443"
   },
   "outputs": [
    {
     "data": {
      "text/plain": [
       "Rank                    int64\n",
       "Title                  object\n",
       "Genre                  object\n",
       "Description            object\n",
       "Director               object\n",
       "Actors                 object\n",
       "Year                    int64\n",
       "Runtime (Minutes)       int64\n",
       "Rating                float64\n",
       "Votes                   int64\n",
       "Revenue (Millions)    float64\n",
       "Metascore             float64\n",
       "dtype: object"
      ]
     },
     "execution_count": 5,
     "metadata": {},
     "output_type": "execute_result"
    }
   ],
   "source": [
    "imdbdata.dtypes"
   ]
  },
  {
   "cell_type": "code",
   "execution_count": 6,
   "metadata": {
    "_cell_guid": "c496f098-5e76-4607-a1b1-309d249c46fd",
    "_execution_state": "idle",
    "_uuid": "4a429242e296e945baa376ceec191cd163a2d53d"
   },
   "outputs": [
    {
     "data": {
      "text/html": [
       "<div>\n",
       "<style scoped>\n",
       "    .dataframe tbody tr th:only-of-type {\n",
       "        vertical-align: middle;\n",
       "    }\n",
       "\n",
       "    .dataframe tbody tr th {\n",
       "        vertical-align: top;\n",
       "    }\n",
       "\n",
       "    .dataframe thead th {\n",
       "        text-align: right;\n",
       "    }\n",
       "</style>\n",
       "<table border=\"1\" class=\"dataframe\">\n",
       "  <thead>\n",
       "    <tr style=\"text-align: right;\">\n",
       "      <th></th>\n",
       "      <th>Rank</th>\n",
       "      <th>Year</th>\n",
       "      <th>Runtime (Minutes)</th>\n",
       "      <th>Rating</th>\n",
       "      <th>Votes</th>\n",
       "      <th>Revenue (Millions)</th>\n",
       "      <th>Metascore</th>\n",
       "    </tr>\n",
       "  </thead>\n",
       "  <tbody>\n",
       "    <tr>\n",
       "      <th>count</th>\n",
       "      <td>1000.000000</td>\n",
       "      <td>1000.000000</td>\n",
       "      <td>1000.000000</td>\n",
       "      <td>1000.000000</td>\n",
       "      <td>1.000000e+03</td>\n",
       "      <td>872.000000</td>\n",
       "      <td>936.000000</td>\n",
       "    </tr>\n",
       "    <tr>\n",
       "      <th>mean</th>\n",
       "      <td>500.500000</td>\n",
       "      <td>2012.783000</td>\n",
       "      <td>113.172000</td>\n",
       "      <td>6.723200</td>\n",
       "      <td>1.698083e+05</td>\n",
       "      <td>82.956376</td>\n",
       "      <td>58.985043</td>\n",
       "    </tr>\n",
       "    <tr>\n",
       "      <th>std</th>\n",
       "      <td>288.819436</td>\n",
       "      <td>3.205962</td>\n",
       "      <td>18.810908</td>\n",
       "      <td>0.945429</td>\n",
       "      <td>1.887626e+05</td>\n",
       "      <td>103.253540</td>\n",
       "      <td>17.194757</td>\n",
       "    </tr>\n",
       "    <tr>\n",
       "      <th>min</th>\n",
       "      <td>1.000000</td>\n",
       "      <td>2006.000000</td>\n",
       "      <td>66.000000</td>\n",
       "      <td>1.900000</td>\n",
       "      <td>6.100000e+01</td>\n",
       "      <td>0.000000</td>\n",
       "      <td>11.000000</td>\n",
       "    </tr>\n",
       "    <tr>\n",
       "      <th>25%</th>\n",
       "      <td>250.750000</td>\n",
       "      <td>2010.000000</td>\n",
       "      <td>100.000000</td>\n",
       "      <td>6.200000</td>\n",
       "      <td>3.630900e+04</td>\n",
       "      <td>13.270000</td>\n",
       "      <td>47.000000</td>\n",
       "    </tr>\n",
       "    <tr>\n",
       "      <th>50%</th>\n",
       "      <td>500.500000</td>\n",
       "      <td>2014.000000</td>\n",
       "      <td>111.000000</td>\n",
       "      <td>6.800000</td>\n",
       "      <td>1.107990e+05</td>\n",
       "      <td>47.985000</td>\n",
       "      <td>59.500000</td>\n",
       "    </tr>\n",
       "    <tr>\n",
       "      <th>75%</th>\n",
       "      <td>750.250000</td>\n",
       "      <td>2016.000000</td>\n",
       "      <td>123.000000</td>\n",
       "      <td>7.400000</td>\n",
       "      <td>2.399098e+05</td>\n",
       "      <td>113.715000</td>\n",
       "      <td>72.000000</td>\n",
       "    </tr>\n",
       "    <tr>\n",
       "      <th>max</th>\n",
       "      <td>1000.000000</td>\n",
       "      <td>2016.000000</td>\n",
       "      <td>191.000000</td>\n",
       "      <td>9.000000</td>\n",
       "      <td>1.791916e+06</td>\n",
       "      <td>936.630000</td>\n",
       "      <td>100.000000</td>\n",
       "    </tr>\n",
       "  </tbody>\n",
       "</table>\n",
       "</div>"
      ],
      "text/plain": [
       "              Rank         Year  Runtime (Minutes)       Rating         Votes  \\\n",
       "count  1000.000000  1000.000000        1000.000000  1000.000000  1.000000e+03   \n",
       "mean    500.500000  2012.783000         113.172000     6.723200  1.698083e+05   \n",
       "std     288.819436     3.205962          18.810908     0.945429  1.887626e+05   \n",
       "min       1.000000  2006.000000          66.000000     1.900000  6.100000e+01   \n",
       "25%     250.750000  2010.000000         100.000000     6.200000  3.630900e+04   \n",
       "50%     500.500000  2014.000000         111.000000     6.800000  1.107990e+05   \n",
       "75%     750.250000  2016.000000         123.000000     7.400000  2.399098e+05   \n",
       "max    1000.000000  2016.000000         191.000000     9.000000  1.791916e+06   \n",
       "\n",
       "       Revenue (Millions)   Metascore  \n",
       "count          872.000000  936.000000  \n",
       "mean            82.956376   58.985043  \n",
       "std            103.253540   17.194757  \n",
       "min              0.000000   11.000000  \n",
       "25%             13.270000   47.000000  \n",
       "50%             47.985000   59.500000  \n",
       "75%            113.715000   72.000000  \n",
       "max            936.630000  100.000000  "
      ]
     },
     "execution_count": 6,
     "metadata": {},
     "output_type": "execute_result"
    }
   ],
   "source": [
    "imdbdata.describe()"
   ]
  },
  {
   "cell_type": "markdown",
   "metadata": {
    "_cell_guid": "54cc6a21-ef34-4c3d-b70d-5db92adff983",
    "_execution_state": "idle",
    "_uuid": "a31ffde1788e7feca57823e488d2a65f5eab47b3"
   },
   "source": [
    "**TITLE ANALYSIS :**"
   ]
  },
  {
   "cell_type": "code",
   "execution_count": 11,
   "metadata": {
    "_cell_guid": "5a4a65b2-76fb-4621-904c-5d7407db2d65",
    "_execution_state": "idle",
    "_uuid": "57a811814213510ef8eed407276b4f65de0e0efa"
   },
   "outputs": [
    {
     "ename": "NameError",
     "evalue": "name 'WordCloud' is not defined",
     "output_type": "error",
     "traceback": [
      "\u001b[1;31m---------------------------------------------------------------------------\u001b[0m",
      "\u001b[1;31mNameError\u001b[0m                                 Traceback (most recent call last)",
      "\u001b[1;32m<ipython-input-11-596d0940e791>\u001b[0m in \u001b[0;36m<module>\u001b[1;34m\u001b[0m\n\u001b[0;32m      6\u001b[0m \u001b[0mtext\u001b[0m \u001b[1;33m=\u001b[0m \u001b[1;33m(\u001b[0m\u001b[0mstr\u001b[0m\u001b[1;33m(\u001b[0m\u001b[0mimdbdata\u001b[0m\u001b[1;33m[\u001b[0m\u001b[1;34m'Title'\u001b[0m\u001b[1;33m]\u001b[0m\u001b[1;33m)\u001b[0m\u001b[1;33m)\u001b[0m\u001b[1;33m\u001b[0m\u001b[1;33m\u001b[0m\u001b[0m\n\u001b[0;32m      7\u001b[0m \u001b[0mplt\u001b[0m\u001b[1;33m.\u001b[0m\u001b[0msubplots\u001b[0m\u001b[1;33m(\u001b[0m\u001b[0mfigsize\u001b[0m\u001b[1;33m=\u001b[0m\u001b[1;33m(\u001b[0m\u001b[1;36m20\u001b[0m\u001b[1;33m,\u001b[0m\u001b[1;36m15\u001b[0m\u001b[1;33m)\u001b[0m\u001b[1;33m)\u001b[0m\u001b[1;33m\u001b[0m\u001b[1;33m\u001b[0m\u001b[0m\n\u001b[1;32m----> 8\u001b[1;33m wordcloud = WordCloud(\n\u001b[0m\u001b[0;32m      9\u001b[0m                           \u001b[0mstopwords\u001b[0m\u001b[1;33m=\u001b[0m\u001b[0mSTOPWORDS\u001b[0m\u001b[1;33m,\u001b[0m\u001b[1;33m\u001b[0m\u001b[1;33m\u001b[0m\u001b[0m\n\u001b[0;32m     10\u001b[0m                           \u001b[0mbackground_color\u001b[0m\u001b[1;33m=\u001b[0m\u001b[1;34m'white'\u001b[0m\u001b[1;33m,\u001b[0m\u001b[1;33m\u001b[0m\u001b[1;33m\u001b[0m\u001b[0m\n",
      "\u001b[1;31mNameError\u001b[0m: name 'WordCloud' is not defined"
     ]
    },
    {
     "data": {
      "image/png": "[encoded data removed]",
      "text/plain": [
       "<Figure size 1440x1080 with 1 Axes>"
      ]
     },
     "metadata": {
      "needs_background": "light"
     },
     "output_type": "display_data"
    }
   ],
   "source": [
    "from os import path\n",
    "import scipy.misc \n",
    "import matplotlib.pyplot as plt\n",
    "import random\n",
    "from wordcloud import WordCloud, STOPWORDS\n",
    "text = (str(imdbdata['Title']))\n",
    "plt.subplots(figsize=(20,15))\n",
    "wordcloud = WordCloud(\n",
    "                          stopwords=STOPWORDS,\n",
    "                          background_color='white',\n",
    "                          width=1500,\n",
    "                          height=1200\n",
    "                         ).generate(text)\n",
    "\n",
    "\n",
    "plt.imshow(wordcloud)\n",
    "plt.title('Title')\n",
    "plt.axis('off')\n",
    "plt.show()"
   ]
  },
  {
   "cell_type": "code",
   "execution_count": null,
   "metadata": {
    "_cell_guid": "f9181a8b-cb7b-4202-9da6-6cafb3aa9cfc",
    "_execution_state": "idle",
    "_uuid": "b1f02c62ec6f2cf200589afdac4efbafea566265"
   },
   "outputs": [],
   "source": [
    "imdbdata=imdbdata.rename(columns = {'Revenue (Millions)':'Revenue_Millions'})"
   ]
  },
  {
   "cell_type": "code",
   "execution_count": null,
   "metadata": {
    "_cell_guid": "0f55a46f-39e8-4fb5-bea9-4516a45cd230",
    "_execution_state": "idle",
    "_uuid": "871e9b4d9da4731cd692b1e27b86d3e9158a8986"
   },
   "outputs": [],
   "source": [
    "imdbdata=imdbdata.rename(columns = {'Runtime (Minutes)':'Runtime_Minutes'})"
   ]
  },
  {
   "cell_type": "markdown",
   "metadata": {
    "_cell_guid": "65015cd0-86c4-41a6-b453-9ac46d49af43",
    "_execution_state": "idle",
    "_uuid": "1ddaacbef8b4de1800b0e17a250cfa0718e61f62"
   },
   "source": [
    "**GENRE ANALYSIS :**"
   ]
  },
  {
   "cell_type": "code",
   "execution_count": null,
   "metadata": {
    "_cell_guid": "1b1e78e5-e3ab-4784-b651-85c69885758e",
    "_execution_state": "idle",
    "_uuid": "86128f1b9f53bb41f5bf70d05a9c918417c9ae60"
   },
   "outputs": [],
   "source": [
    "imdbdata[\"Genre\"].value_counts()"
   ]
  },
  {
   "cell_type": "code",
   "execution_count": 8,
   "metadata": {
    "_execution_state": "idle",
    "_uuid": "a06fdfbd0c71b592fd0bbe4eb83dfbef104953b6"
   },
   "outputs": [
    {
     "name": "stdout",
     "output_type": "stream",
     "text": [
      "The total number of movies with  Action = 303\n"
     ]
    },
    {
     "name": "stderr",
     "output_type": "stream",
     "text": [
      "E:\\Programas\\Anaconda\\lib\\site-packages\\seaborn\\axisgrid.py:2264: UserWarning: The `size` parameter has been renamed to `height`; please update your code.\n",
      "  warnings.warn(msg, UserWarning)\n"
     ]
    },
    {
     "ename": "ValueError",
     "evalue": "Could not interpret input 'Runtime_Minutes'",
     "output_type": "error",
     "traceback": [
      "\u001b[1;31m---------------------------------------------------------------------------\u001b[0m",
      "\u001b[1;31mValueError\u001b[0m                                Traceback (most recent call last)",
      "\u001b[1;32m<ipython-input-8-a4f70d958357>\u001b[0m in \u001b[0;36m<module>\u001b[1;34m\u001b[0m\n\u001b[0;32m      8\u001b[0m     \u001b[0mcompare_movies_rating\u001b[0m \u001b[1;33m=\u001b[0m \u001b[1;33m[\u001b[0m\u001b[1;34m'Runtime_Minutes'\u001b[0m\u001b[1;33m,\u001b[0m \u001b[1;34m'Votes'\u001b[0m\u001b[1;33m,\u001b[0m\u001b[1;34m'Revenue_Millions'\u001b[0m\u001b[1;33m,\u001b[0m \u001b[1;34m'Metascore'\u001b[0m\u001b[1;33m]\u001b[0m\u001b[1;33m\u001b[0m\u001b[1;33m\u001b[0m\u001b[0m\n\u001b[0;32m      9\u001b[0m     \u001b[1;32mfor\u001b[0m \u001b[0mcompare\u001b[0m \u001b[1;32min\u001b[0m \u001b[0mcompare_movies_rating\u001b[0m\u001b[1;33m:\u001b[0m\u001b[1;33m\u001b[0m\u001b[1;33m\u001b[0m\u001b[0m\n\u001b[1;32m---> 10\u001b[1;33m         \u001b[0msns\u001b[0m\u001b[1;33m.\u001b[0m\u001b[0mjointplot\u001b[0m\u001b[1;33m(\u001b[0m\u001b[0mx\u001b[0m\u001b[1;33m=\u001b[0m\u001b[1;34m'Rating'\u001b[0m\u001b[1;33m,\u001b[0m \u001b[0my\u001b[0m\u001b[1;33m=\u001b[0m\u001b[0mcompare\u001b[0m\u001b[1;33m,\u001b[0m \u001b[0mdata\u001b[0m\u001b[1;33m=\u001b[0m\u001b[0mimdbdata\u001b[0m\u001b[1;33m[\u001b[0m\u001b[0mdf\u001b[0m\u001b[1;33m]\u001b[0m\u001b[1;33m,\u001b[0m \u001b[0malpha\u001b[0m\u001b[1;33m=\u001b[0m\u001b[1;36m0.7\u001b[0m\u001b[1;33m,\u001b[0m \u001b[0mcolor\u001b[0m\u001b[1;33m=\u001b[0m\u001b[1;34m'b'\u001b[0m\u001b[1;33m,\u001b[0m \u001b[0msize\u001b[0m\u001b[1;33m=\u001b[0m\u001b[1;36m8\u001b[0m\u001b[1;33m)\u001b[0m\u001b[1;33m\u001b[0m\u001b[1;33m\u001b[0m\u001b[0m\n\u001b[0m\u001b[0;32m     11\u001b[0m         \u001b[0mplt\u001b[0m\u001b[1;33m.\u001b[0m\u001b[0mtitle\u001b[0m\u001b[1;33m(\u001b[0m\u001b[0mgenre\u001b[0m\u001b[1;33m)\u001b[0m\u001b[1;33m\u001b[0m\u001b[1;33m\u001b[0m\u001b[0m\n",
      "\u001b[1;32mE:\\Programas\\Anaconda\\lib\\site-packages\\seaborn\\axisgrid.py\u001b[0m in \u001b[0;36mjointplot\u001b[1;34m(x, y, data, kind, stat_func, color, height, ratio, space, dropna, xlim, ylim, joint_kws, marginal_kws, annot_kws, **kwargs)\u001b[0m\n\u001b[0;32m   2281\u001b[0m     grid = JointGrid(x, y, data, dropna=dropna,\n\u001b[0;32m   2282\u001b[0m                      \u001b[0mheight\u001b[0m\u001b[1;33m=\u001b[0m\u001b[0mheight\u001b[0m\u001b[1;33m,\u001b[0m \u001b[0mratio\u001b[0m\u001b[1;33m=\u001b[0m\u001b[0mratio\u001b[0m\u001b[1;33m,\u001b[0m \u001b[0mspace\u001b[0m\u001b[1;33m=\u001b[0m\u001b[0mspace\u001b[0m\u001b[1;33m,\u001b[0m\u001b[1;33m\u001b[0m\u001b[1;33m\u001b[0m\u001b[0m\n\u001b[1;32m-> 2283\u001b[1;33m                      xlim=xlim, ylim=ylim)\n\u001b[0m\u001b[0;32m   2284\u001b[0m \u001b[1;33m\u001b[0m\u001b[0m\n\u001b[0;32m   2285\u001b[0m     \u001b[1;31m# Plot the data using the grid\u001b[0m\u001b[1;33m\u001b[0m\u001b[1;33m\u001b[0m\u001b[1;33m\u001b[0m\u001b[0m\n",
      "\u001b[1;32mE:\\Programas\\Anaconda\\lib\\site-packages\\seaborn\\axisgrid.py\u001b[0m in \u001b[0;36m__init__\u001b[1;34m(self, x, y, data, height, ratio, space, dropna, xlim, ylim, size)\u001b[0m\n\u001b[0;32m   1700\u001b[0m             \u001b[1;32mif\u001b[0m \u001b[0misinstance\u001b[0m\u001b[1;33m(\u001b[0m\u001b[0mvar\u001b[0m\u001b[1;33m,\u001b[0m \u001b[0mstr\u001b[0m\u001b[1;33m)\u001b[0m\u001b[1;33m:\u001b[0m\u001b[1;33m\u001b[0m\u001b[1;33m\u001b[0m\u001b[0m\n\u001b[0;32m   1701\u001b[0m                 \u001b[0merr\u001b[0m \u001b[1;33m=\u001b[0m \u001b[1;34m\"Could not interpret input '{}'\"\u001b[0m\u001b[1;33m.\u001b[0m\u001b[0mformat\u001b[0m\u001b[1;33m(\u001b[0m\u001b[0mvar\u001b[0m\u001b[1;33m)\u001b[0m\u001b[1;33m\u001b[0m\u001b[1;33m\u001b[0m\u001b[0m\n\u001b[1;32m-> 1702\u001b[1;33m                 \u001b[1;32mraise\u001b[0m \u001b[0mValueError\u001b[0m\u001b[1;33m(\u001b[0m\u001b[0merr\u001b[0m\u001b[1;33m)\u001b[0m\u001b[1;33m\u001b[0m\u001b[1;33m\u001b[0m\u001b[0m\n\u001b[0m\u001b[0;32m   1703\u001b[0m \u001b[1;33m\u001b[0m\u001b[0m\n\u001b[0;32m   1704\u001b[0m         \u001b[1;31m# Find the names of the variables\u001b[0m\u001b[1;33m\u001b[0m\u001b[1;33m\u001b[0m\u001b[1;33m\u001b[0m\u001b[0m\n",
      "\u001b[1;31mValueError\u001b[0m: Could not interpret input 'Runtime_Minutes'"
     ]
    },
    {
     "data": {
      "image/png": "[encoded data removed]",
      "text/plain": [
       "<Figure size 720x432 with 1 Axes>"
      ]
     },
     "metadata": {
      "needs_background": "light"
     },
     "output_type": "display_data"
    },
    {
     "data": {
      "image/png": "[encoded data removed]",
      "text/plain": [
       "<Figure size 576x576 with 3 Axes>"
      ]
     },
     "metadata": {
      "needs_background": "light"
     },
     "output_type": "display_data"
    }
   ],
   "source": [
    "seperate_genre='Action','Adventure','Animation','Biography','Comedy','Crime','Drama','Fantasy','Family','History','Horror','Music','Musical','Mystery','Romance','Sci-Fi','Sport','Thriller','War','Western'\n",
    "for genre in seperate_genre:\n",
    "    df = imdbdata['Genre'].str.contains(genre).fillna(False)\n",
    "    print('The total number of movies with ',genre,'=',len(imdbdata[df]))\n",
    "    f, ax = plt.subplots(figsize=(10, 6))\n",
    "    sns.countplot(x='Year', data=imdbdata[df], palette=\"Greens_d\");\n",
    "    plt.title(genre)\n",
    "    compare_movies_rating = ['Runtime_Minutes', 'Votes','Revenue_Millions', 'Metascore']\n",
    "    for compare in compare_movies_rating:\n",
    "        sns.jointplot(x='Rating', y=compare, data=imdbdata[df], alpha=0.7, color='b', size=8)\n",
    "        plt.title(genre)"
   ]
  },
  {
   "cell_type": "markdown",
   "metadata": {
    "_execution_state": "idle",
    "_uuid": "00ff55d0adbf711aaa691ad4bae949dfb5cea96d"
   },
   "source": [
    "**DESCRIPTION ANALYSIS:**"
   ]
  },
  {
   "cell_type": "code",
   "execution_count": null,
   "metadata": {
    "_cell_guid": "57352696-1e94-440f-849b-0b5b21d8e29c",
    "_execution_state": "idle",
    "_uuid": "4d820a87d2bd716324bbbccfec60ad80ebaef567"
   },
   "outputs": [],
   "source": [
    "from os import path\n",
    "from scipy.misc import imread\n",
    "import matplotlib.pyplot as plt\n",
    "import random\n",
    "from wordcloud import WordCloud, STOPWORDS\n",
    "text = (str(imdbdata['Description']))\n",
    "plt.subplots(figsize=(20,15))\n",
    "wordcloud = WordCloud(\n",
    "                          stopwords=STOPWORDS,\n",
    "                          background_color='white',\n",
    "                          width=1500,\n",
    "                          height=1200\n",
    "                         ).generate(text)\n",
    "\n",
    "\n",
    "plt.imshow(wordcloud)\n",
    "plt.title('DESCRIPTION')\n",
    "plt.axis('off')\n",
    "plt.show()"
   ]
  },
  {
   "cell_type": "markdown",
   "metadata": {
    "_cell_guid": "0c458256-495d-4c53-bba8-434943df1ff2",
    "_execution_state": "idle",
    "_uuid": "c64f79aefa33fef96d130fde6a7e6afabc7748a6"
   },
   "source": [
    "**DIRECTOR ANALYSIS :**"
   ]
  },
  {
   "cell_type": "code",
   "execution_count": null,
   "metadata": {
    "_cell_guid": "7714ee1c-9da9-409c-bae0-f21548a39657",
    "_execution_state": "idle",
    "_uuid": "7f167db8c482df8e783d1c19573c483388430370"
   },
   "outputs": [],
   "source": [
    "imdbdata.Director.value_counts()[:10].plot.pie(autopct='%1.1f%%',figsize=(10,10))\n",
    "plt.title('TOP 10 DIRECTORS OF MOVIES')"
   ]
  },
  {
   "cell_type": "markdown",
   "metadata": {
    "_cell_guid": "53174a9a-cfb3-4295-8078-a339457262f8",
    "_execution_state": "idle",
    "_uuid": "a67cbdbfdbdbc50696beea78636a8ca3a0cae654"
   },
   "source": [
    "**ACTOR ANALYSIS :**"
   ]
  },
  {
   "cell_type": "code",
   "execution_count": null,
   "metadata": {
    "_cell_guid": "0dad5606-8867-4e57-95f2-7c1aecb247f9",
    "_execution_state": "idle",
    "_uuid": "45a5dff8fe372329dac74ede7570d56759d999c6"
   },
   "outputs": [],
   "source": [
    "imdbdata.Actors.value_counts()[:10].plot.pie(autopct='%1.1f%%',figsize=(10,10))\n",
    "plt.title('TOP 10 ActorS OF MOVIES')"
   ]
  },
  {
   "cell_type": "code",
   "execution_count": null,
   "metadata": {
    "_cell_guid": "d968241f-6f85-4e5b-a380-fbd40eb63cca",
    "_execution_state": "idle",
    "_uuid": "2924a0ef1856b4841ddd1292dda0258cbd7f28a3",
    "scrolled": true
   },
   "outputs": [],
   "source": [
    "ctors=imdbdata[\"Actors\"]\n",
    "actors=set(ctors)\n",
    "from wordcloud import WordCloud, STOPWORDS\n",
    "plt.subplots(figsize=(10,10))\n",
    "text = (str(actors))\n",
    "wordcloud = WordCloud(\n",
    "                          stopwords=STOPWORDS,\n",
    "                          background_color='white',\n",
    "                          width=1200,\n",
    "                          height=1000\n",
    "                         ).generate(text)\n",
    "\n",
    "\n",
    "plt.imshow(wordcloud)\n",
    "plt.title('ACTORS')\n",
    "plt.axis('off')\n",
    "plt.show()"
   ]
  },
  {
   "cell_type": "markdown",
   "metadata": {
    "_cell_guid": "e965991b-d400-4c6b-83d3-1c33b7758660",
    "_execution_state": "idle",
    "_uuid": "5863d4ed2f0aab7bf7b3d1c82ee662f5191196ad"
   },
   "source": [
    "**YEAR ANALYSIS  :**"
   ]
  },
  {
   "cell_type": "code",
   "execution_count": null,
   "metadata": {
    "_cell_guid": "dc36f877-c0f8-42fb-bdde-1133069c556e",
    "_execution_state": "idle",
    "_uuid": "0bada06ca032426cd8f5d935a6ca14c0267a74d0"
   },
   "outputs": [],
   "source": [
    "imdbdata[\"Year\"].value_counts()"
   ]
  },
  {
   "cell_type": "code",
   "execution_count": null,
   "metadata": {
    "_cell_guid": "67bb6d87-9853-40b7-a700-371f72bf281f",
    "_execution_state": "idle",
    "_uuid": "ed223f8d6016d8b8a58903b0d8f6559ecdb361c3"
   },
   "outputs": [],
   "source": [
    "sns.stripplot(x=\"Year\", y=\"Rating\", data=imdbdata, jitter=True);\n",
    "print(' RATING BASED ON YEAR')"
   ]
  },
  {
   "cell_type": "code",
   "execution_count": null,
   "metadata": {
    "_cell_guid": "16b29af4-ace6-46e5-85de-274c4eaeaedd",
    "_execution_state": "idle",
    "_uuid": "e414d02cb188049c97eca4652222b393ffcfe57f"
   },
   "outputs": [],
   "source": [
    "sns.swarmplot(x=\"Year\", y=\"Votes\", data=imdbdata);\n",
    "print(' VOTES BASED ON YEAR')"
   ]
  },
  {
   "cell_type": "code",
   "execution_count": null,
   "metadata": {
    "_cell_guid": "1ba81799-8e61-405c-b044-e92dea8f5232",
    "_execution_state": "idle",
    "_uuid": "a7bd9b4a022f1c4efb9b606eb0f1e9abc9ffdc13"
   },
   "outputs": [],
   "source": [
    "sns.stripplot(x=\"Year\", y=\"Revenue_Millions\", data=imdbdata, jitter=True);\n",
    "print(' REVENUE BASED ON YEAR')"
   ]
  },
  {
   "cell_type": "code",
   "execution_count": null,
   "metadata": {
    "_cell_guid": "da09633c-de2d-4373-9952-854b9f01eb37",
    "_execution_state": "idle",
    "_uuid": "b2fcf97d2aeddf24c1697a28a32aa3846f8c4fa3"
   },
   "outputs": [],
   "source": [
    "sns.swarmplot(x=\"Year\", y=\"Metascore\", data=imdbdata);\n",
    "print(' METASCORE BASED ON YEAR')"
   ]
  },
  {
   "cell_type": "markdown",
   "metadata": {
    "_cell_guid": "c88fd6d5-c0c6-4aae-9a9d-d3fe1de7dec6",
    "_execution_state": "idle",
    "_uuid": "2d361170a655ddc31f5989cfea35a576d251bd28"
   },
   "source": [
    "**RUNTIME ANALYSIS :**"
   ]
  },
  {
   "cell_type": "code",
   "execution_count": null,
   "metadata": {
    "_cell_guid": "c93f6834-9cdb-4f05-a2e9-1857ee2f13b1",
    "_execution_state": "idle",
    "_uuid": "e2452319ada733c88ebb67fde1e59f6e1fe84052"
   },
   "outputs": [],
   "source": [
    "imdbdata[\"Runtime_Minutes\"].value_counts()"
   ]
  },
  {
   "cell_type": "code",
   "execution_count": null,
   "metadata": {
    "_cell_guid": "74d0adfe-673d-4e8d-8f8c-1a9aafc2c40b",
    "_execution_state": "idle",
    "_uuid": "b55d415b78842e0ab69823ed3b2db9d2c018fc62"
   },
   "outputs": [],
   "source": [
    "imdbdata.Runtime_Minutes.value_counts()[:10].plot.pie(autopct='%1.1f%%',figsize=(10,10))\n",
    "plt.title('TOP 10 runtime OF MOVIES')"
   ]
  },
  {
   "cell_type": "code",
   "execution_count": null,
   "metadata": {
    "_cell_guid": "d3f320fb-3034-4d24-b81b-13c2d687782f",
    "_execution_state": "idle",
    "_uuid": "5f744ebaf278f12470a66c18a438f9527c7736eb"
   },
   "outputs": [],
   "source": [
    "time=imdbdata.Runtime_Minutes\n",
    "sns.distplot(time, bins=20, kde=False, rug=True);"
   ]
  },
  {
   "cell_type": "code",
   "execution_count": null,
   "metadata": {
    "_cell_guid": "f33c642c-ab90-43a1-a94c-cc33e9cbfd7b",
    "_execution_state": "idle",
    "_uuid": "943941e292452867f400c32adbf4a280b9d694f6"
   },
   "outputs": [],
   "source": [
    "sns.distplot(time, hist=False, rug=True);"
   ]
  },
  {
   "cell_type": "markdown",
   "metadata": {
    "_cell_guid": "6ae0260f-311d-42fa-9696-d6c0210a6b58",
    "_execution_state": "idle",
    "_uuid": "725bef2f231a451a8e6c2da9db2d8678761f21cc"
   },
   "source": [
    "**RATING ANALYSIS  :**"
   ]
  },
  {
   "cell_type": "code",
   "execution_count": null,
   "metadata": {
    "_cell_guid": "c649f5f1-4b4d-4c8b-9861-9d3ed54b00c3",
    "_execution_state": "idle",
    "_uuid": "b116380b0fad9e711ec89daf83e1b9c7c07cecf1"
   },
   "outputs": [],
   "source": [
    "imdbdata[\"Rating\"].value_counts()"
   ]
  },
  {
   "cell_type": "code",
   "execution_count": null,
   "metadata": {
    "_cell_guid": "212a6e4b-9bbb-4041-bdec-f3472c30ca7f",
    "_execution_state": "idle",
    "_uuid": "b46f7762d421a12457d78471a561332d42a118ac"
   },
   "outputs": [],
   "source": [
    "#top 10 rating movies \n",
    "\n",
    "Sortedrating= imdbdata.sort_values(['Rating'], ascending=False)\n",
    "Sortedrating.head(10)"
   ]
  },
  {
   "cell_type": "code",
   "execution_count": null,
   "metadata": {
    "_cell_guid": "11a7d52f-4f7a-4d98-9da5-211f08a3e2ce",
    "_execution_state": "idle",
    "_uuid": "af1f54a2ea5aec204cb6da7b6fb8dc9af0ed52a6"
   },
   "outputs": [],
   "source": [
    "# low rated movies\n",
    "lowratedmovies= imdbdata.query('(Rating > 0) & (Rating < 3.0)')\n",
    "lowratedmovies.head()"
   ]
  },
  {
   "cell_type": "code",
   "execution_count": null,
   "metadata": {
    "_cell_guid": "485266a9-0086-4f8a-b561-3e38c02bcd8e",
    "_execution_state": "idle",
    "_uuid": "e8f42b0a74af062e9ec6e588eb97934e2ffb6766"
   },
   "outputs": [],
   "source": [
    "\n",
    "print('number of low rated movies :')\n",
    "len(lowratedmovies)"
   ]
  },
  {
   "cell_type": "code",
   "execution_count": null,
   "metadata": {
    "_cell_guid": "db030f99-5d92-4156-bf5b-c2aae81b1406",
    "_execution_state": "idle",
    "_uuid": "1fe69af4de79f86981cace7a2e30731ba92267eb"
   },
   "outputs": [],
   "source": [
    "#medium rated movies\n",
    "mediumratedmovies= imdbdata.query('(Rating > 3.0) & (Rating < 7.0)')\n",
    "mediumratedmovies.head()"
   ]
  },
  {
   "cell_type": "code",
   "execution_count": null,
   "metadata": {
    "_cell_guid": "c49f4b72-dd96-4297-b71e-bf4d83c06ef2",
    "_execution_state": "idle",
    "_uuid": "979d95afa28963e6362a1850a458e2356225c368"
   },
   "outputs": [],
   "source": [
    "print('number of medium rated movies :')\n",
    "len(mediumratedmovies)"
   ]
  },
  {
   "cell_type": "code",
   "execution_count": null,
   "metadata": {
    "_cell_guid": "0834dd4f-5ce8-4245-9524-19ee22c02f41",
    "_execution_state": "idle",
    "_uuid": "73e417830ff720eb4e85e5f642f46ad6f1c0e11f"
   },
   "outputs": [],
   "source": [
    "sns.jointplot(x=\"Rating\", y=\"Metascore\", data=mediumratedmovies);\n",
    "plt.title('(MOVIES WITH MEDIUM RATING , METASCORE')"
   ]
  },
  {
   "cell_type": "code",
   "execution_count": null,
   "metadata": {
    "_cell_guid": "c568cec0-4f20-4ba7-b4cd-437810915813",
    "_execution_state": "idle",
    "_uuid": "b3897ec06819bc4769621fdabb45e610c41c078c"
   },
   "outputs": [],
   "source": [
    "sns.jointplot(x=\"Rating\", y=\"Votes\", data=mediumratedmovies);\n",
    "plt.title('(MOVIES WITH MEDIUM RATING , VOTES')"
   ]
  },
  {
   "cell_type": "code",
   "execution_count": null,
   "metadata": {
    "_cell_guid": "b186c716-bdd3-4fde-ad6e-7290c3148d8d",
    "_execution_state": "idle",
    "_uuid": "71e83f3a13421574e7a07dc6618c769a1ba2b472"
   },
   "outputs": [],
   "source": [
    "sns.jointplot(x=\"Rating\", y=\"Revenue_Millions\", data=mediumratedmovies);\n",
    "plt.title('(MOVIES WITH MEDIUM RATING , REVENUE')"
   ]
  },
  {
   "cell_type": "code",
   "execution_count": null,
   "metadata": {
    "_cell_guid": "e3d86ee4-7bb8-4d55-b214-eec77149caef",
    "_execution_state": "idle",
    "_uuid": "e4f20d09aaceac28dc57ad2a155838c5c66c651f"
   },
   "outputs": [],
   "source": [
    "#high rated movies\n",
    "highratedmovies= imdbdata.query('(Rating > 7.0) & (Rating < 10.0)')\n",
    "highratedmovies.head()"
   ]
  },
  {
   "cell_type": "code",
   "execution_count": null,
   "metadata": {
    "_cell_guid": "a747b13b-c338-4832-959a-d67a1b03da2f",
    "_execution_state": "idle",
    "_uuid": "7dd99634be7eb6aae02832efa52a5f33343c730d"
   },
   "outputs": [],
   "source": [
    "print('number of high rated movies :')\n",
    "len(highratedmovies)"
   ]
  },
  {
   "cell_type": "code",
   "execution_count": null,
   "metadata": {
    "_cell_guid": "e11c0321-7d09-4fbb-9fd4-0cac2d6ee7ea",
    "_execution_state": "idle",
    "_uuid": "4c8321a6c477d56f040b07e3ce63d1a596b0e306"
   },
   "outputs": [],
   "source": [
    "sns.jointplot(x=\"Rating\", y=\"Metascore\", data=highratedmovies);\n",
    "plt.title('(MOVIES WITH HIGH RATING , METASCORE')"
   ]
  },
  {
   "cell_type": "code",
   "execution_count": null,
   "metadata": {
    "_cell_guid": "21cf9360-ac26-46d9-85f2-89c49f7ec985",
    "_execution_state": "idle",
    "_uuid": "ebb12bbff78bcd4e1c850f07f40f943bcbc19371"
   },
   "outputs": [],
   "source": [
    "sns.jointplot(x=\"Rating\", y=\"Votes\", data=highratedmovies);\n",
    "plt.title('(MOVIES WITH HIGH RATING ,VOTES')"
   ]
  },
  {
   "cell_type": "code",
   "execution_count": null,
   "metadata": {
    "_cell_guid": "4c5b897a-8665-481a-95ec-36024878f8ea",
    "_execution_state": "idle",
    "_uuid": "82c318baf71bcf15fead22c5e29d7d1eec3c8119"
   },
   "outputs": [],
   "source": [
    "sns.jointplot(x=\"Rating\", y=\"Revenue_Millions\", data=highratedmovies);\n",
    "plt.title('(MOVIES WITH HIGH RATING ,REVENUE')"
   ]
  },
  {
   "cell_type": "markdown",
   "metadata": {
    "_cell_guid": "fd5365b9-a598-4ef5-b3c1-5e19d35669ed",
    "_execution_state": "idle",
    "_uuid": "4bdf46dd9c5d383f505829a58eec0c166e00f489"
   },
   "source": [
    "**VOTES ANALYDIS :**"
   ]
  },
  {
   "cell_type": "code",
   "execution_count": null,
   "metadata": {
    "_cell_guid": "c4db5012-c4ba-4476-80e2-afce69298fbf",
    "_execution_state": "idle",
    "_uuid": "3a82fa9c14803138bf48dd072b9d4631ed92495a"
   },
   "outputs": [],
   "source": [
    "#top voted movies \n",
    "\n",
    "Sortedvotes= imdbdata.sort_values(['Votes'], ascending=False)\n"
   ]
  },
  {
   "cell_type": "code",
   "execution_count": null,
   "metadata": {
    "_cell_guid": "d6085594-c580-462d-8c01-9dfa85549b7d",
    "_execution_state": "idle",
    "_uuid": "f690c133fc93a9c401e9385db32861a156734c54"
   },
   "outputs": [],
   "source": [
    "v= Sortedvotes.query('(Votes > 1000000)')\n",
    "print('number of movies voted more than 1 million :')\n",
    "len(v)"
   ]
  },
  {
   "cell_type": "code",
   "execution_count": null,
   "metadata": {
    "_cell_guid": "24d45c88-892a-47ff-a2fb-65920b457b30",
    "_execution_state": "idle",
    "_uuid": "c40cd84a32be4f311db714ac77c4d75bb131a02e"
   },
   "outputs": [],
   "source": [
    "\n",
    "print('more than 1 million voted movies title :')\n",
    "Sortedvotes[\"Title\"].head(6)"
   ]
  },
  {
   "cell_type": "code",
   "execution_count": null,
   "metadata": {
    "_cell_guid": "13e6dd1e-9c16-4816-b07d-9af6ed29e93b",
    "_execution_state": "idle",
    "_uuid": "a5a154e0ca4f1784475ce98e8058b198a7576314"
   },
   "outputs": [],
   "source": [
    "print('more than 1 million voted movies rating:')\n",
    "Sortedvotes[\"Rating\"].head(6)"
   ]
  },
  {
   "cell_type": "code",
   "execution_count": null,
   "metadata": {
    "_cell_guid": "1d21cdbf-f3c9-46ad-934e-31ecf6592de1",
    "_execution_state": "idle",
    "_uuid": "40ee1153b22515f6db83f92de23d47ff944743cd"
   },
   "outputs": [],
   "source": [
    "print('more than 1 million voted movies revenue:')\n",
    "Sortedvotes[\"Revenue_Millions\"].head(6)"
   ]
  },
  {
   "cell_type": "code",
   "execution_count": null,
   "metadata": {
    "_cell_guid": "d3cf46d6-f7ac-498e-a9e0-a56a36be704d",
    "_execution_state": "idle",
    "_uuid": "9474fec5d869fbb44716342bf4f0e46fa2703098"
   },
   "outputs": [],
   "source": [
    "print('more than 1 million voted movies Metascore:')\n",
    "Sortedvotes[\"Metascore\"].head(6)"
   ]
  },
  {
   "cell_type": "markdown",
   "metadata": {
    "_cell_guid": "d9d923a5-b82c-47fa-a89b-5920164f2d31",
    "_execution_state": "idle",
    "_uuid": "3e00fba39808c746611877d12ded75ba892ece06"
   },
   "source": [
    "**REVENUE ANALYSIS :**"
   ]
  },
  {
   "cell_type": "code",
   "execution_count": null,
   "metadata": {
    "_cell_guid": "228c074f-4381-4123-b221-1fc942251285",
    "_execution_state": "idle",
    "_uuid": "e465783f55797a36d0cef51645b97e2acaabb1d2"
   },
   "outputs": [],
   "source": [
    "#sorting based on revenue\n",
    "Sortedrevenue= imdbdata.sort_values(['Revenue_Millions'], ascending=False)"
   ]
  },
  {
   "cell_type": "code",
   "execution_count": null,
   "metadata": {
    "_cell_guid": "c6c64916-b137-4843-839c-54a64fa252d0",
    "_execution_state": "idle",
    "_uuid": "3d178dea2da39f23eb2ccb198b2abc6da04ca18d"
   },
   "outputs": [],
   "source": [
    "#top 5 high revenue movies\n",
    "Sortedrevenue.head()"
   ]
  },
  {
   "cell_type": "code",
   "execution_count": null,
   "metadata": {
    "_cell_guid": "aeaeafa0-297b-4981-a6e0-6e176b0de21e",
    "_execution_state": "idle",
    "_uuid": "11fecbe2a3a24e971905d8813ba8ab6374581083"
   },
   "outputs": [],
   "source": [
    "m= Sortedrevenue.query('(Revenue_Millions > 500)')\n",
    "print('number of movies with more than half million revenue:')\n",
    "len(m)"
   ]
  },
  {
   "cell_type": "code",
   "execution_count": null,
   "metadata": {
    "_cell_guid": "db01f037-561c-4991-be59-f4ffe19c43b3",
    "_execution_state": "idle",
    "_uuid": "7c6708dc6872665b36f248be6a9ba022d23310e5"
   },
   "outputs": [],
   "source": [
    "n= Sortedrevenue.query('(Revenue_Millions < 500)')\n",
    "print('number of movies with less than half million revenue:')\n",
    "len(n)"
   ]
  },
  {
   "cell_type": "code",
   "execution_count": null,
   "metadata": {
    "_cell_guid": "d9019f68-68ac-4dc9-8d46-2486bc40fed3",
    "_execution_state": "idle",
    "_uuid": "e0c8586afadf74d2f629a7897205b6750cb83755"
   },
   "outputs": [],
   "source": [
    "#TOP REVENUE MOVIE\n",
    "m.head()\n"
   ]
  },
  {
   "cell_type": "code",
   "execution_count": null,
   "metadata": {
    "_cell_guid": "e0c90cce-aadb-4172-863e-64bd6bedfc4e",
    "_execution_state": "idle",
    "_uuid": "b9f9c428ecae33e7372d4c4b64e40084cbd39d4b"
   },
   "outputs": [],
   "source": [
    "from wordcloud import WordCloud, STOPWORDS\n",
    "plt.subplots(figsize=(10,10))\n",
    "text = (str(m['Actors']))\n",
    "wordcloud = WordCloud(\n",
    "                          stopwords=STOPWORDS,\n",
    "                          background_color='white',\n",
    "                          width=1200,\n",
    "                          height=1000\n",
    "                         ).generate(text)\n",
    "\n",
    "\n",
    "plt.imshow(wordcloud)\n",
    "plt.title('ACTORS IN HIGH REVENUE MOVIES')\n",
    "plt.axis('off')\n",
    "plt.show()\n"
   ]
  },
  {
   "cell_type": "markdown",
   "metadata": {
    "_cell_guid": "88ad41a3-b3cd-4030-bf60-dc828c2f82b0",
    "_execution_state": "idle",
    "_uuid": "ef3538b2d2e396c8ac4393ecc525ef5815d28ed3"
   },
   "source": [
    "**METASCORE ANALYSIS :**"
   ]
  },
  {
   "cell_type": "code",
   "execution_count": null,
   "metadata": {
    "_cell_guid": "33c4e9d9-ad5a-44f7-8a8b-12dff6d5ed56",
    "_execution_state": "idle",
    "_uuid": "5321fbed314f18e2e7e239d27ccb617c3393a65a"
   },
   "outputs": [],
   "source": [
    "imdbdata.Metascore.value_counts()"
   ]
  },
  {
   "cell_type": "code",
   "execution_count": null,
   "metadata": {
    "_cell_guid": "600efcb6-977e-4353-a700-bf46c6c39cf3",
    "_execution_state": "idle",
    "_uuid": "23bcaa1d4f2eaf1769acdf2eb5521596ccffb05f"
   },
   "outputs": [],
   "source": [
    "metascore=imdbdata.Metascore\n",
    "sns.boxplot(metascore);"
   ]
  },
  {
   "cell_type": "code",
   "execution_count": null,
   "metadata": {
    "_cell_guid": "89fa95a0-1fcb-4c17-9680-e0959b314dc2",
    "_execution_state": "idle",
    "_uuid": "ed922b805579b9fe05de95b0f205b395d9a69844"
   },
   "outputs": [],
   "source": [
    "sns.kdeplot(metascore);"
   ]
  },
  {
   "cell_type": "code",
   "execution_count": null,
   "metadata": {
    "_cell_guid": "a47610b7-0877-48ce-9242-c16f6c33701a",
    "_execution_state": "idle",
    "_uuid": "96e9d2f2bf0adc3bce3df87c8da2de8aaefd7599"
   },
   "outputs": [],
   "source": []
  }
 ],
 "metadata": {
  "kernelspec": {
   "display_name": "Python 3",
   "language": "python",
   "name": "python3"
  },
  "language_info": {
   "codemirror_mode": {
    "name": "ipython",
    "version": 3
   },
   "file_extension": ".py",
   "mimetype": "text/x-python",
   "name": "python",
   "nbconvert_exporter": "python",
   "pygments_lexer": "ipython3",
   "version": "3.7.6"
  },
  "widgets": {
   "state": {},
   "version": "1.1.2"
  }
 },
 "nbformat": 4,
 "nbformat_minor": 1
}
